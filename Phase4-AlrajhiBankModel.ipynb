{
  "nbformat": 4,
  "nbformat_minor": 0,
  "metadata": {
    "colab": {
      "name": "AlrajhiBankModel",
      "provenance": [],
      "collapsed_sections": []
    },
    "kernelspec": {
      "name": "python3",
      "display_name": "Python 3"
    },
    "language_info": {
      "name": "python"
    }
  },
  "cells": [
    {
      "cell_type": "code",
      "source": [
        "!pip install arabic_reshaper\n",
        "!pip install python-bidi"
      ],
      "metadata": {
        "colab": {
          "base_uri": "https://localhost:8080/"
        },
        "id": "Jie9LRebGvej",
        "outputId": "f3fe28e4-2785-484f-f505-0491a783d2e9"
      },
      "execution_count": null,
      "outputs": [
        {
          "output_type": "stream",
          "name": "stdout",
          "text": [
            "Requirement already satisfied: arabic_reshaper in /usr/local/lib/python3.7/dist-packages (2.1.3)\n",
            "Requirement already satisfied: setuptools in /usr/local/lib/python3.7/dist-packages (from arabic_reshaper) (57.4.0)\n",
            "Requirement already satisfied: future in /usr/local/lib/python3.7/dist-packages (from arabic_reshaper) (0.16.0)\n",
            "Requirement already satisfied: python-bidi in /usr/local/lib/python3.7/dist-packages (0.4.2)\n",
            "Requirement already satisfied: six in /usr/local/lib/python3.7/dist-packages (from python-bidi) (1.15.0)\n"
          ]
        }
      ]
    },
    {
      "cell_type": "code",
      "execution_count": null,
      "metadata": {
        "id": "tA-tLkKKlM2q"
      },
      "outputs": [],
      "source": [
        "#import\n",
        "import pandas as pd\n",
        "import numpy as np\n",
        "import matplotlib.pyplot as plt\n",
        "import arabic_reshaper \n",
        "import re\n",
        "from wordcloud import WordCloud\n",
        "from bidi.algorithm import get_display\n",
        "from mlxtend.plotting import plot_confusion_matrix\n",
        "from mlxtend.evaluate import confusion_matrix\n"
      ]
    },
    {
      "cell_type": "code",
      "source": [
        "from sklearn.feature_extraction.text import TfidfVectorizer\n",
        "from sklearn.model_selection import train_test_split\n",
        "from sklearn import svm\n",
        "from sklearn.linear_model import LogisticRegression\n",
        "# from sklearn.naive_bayes import MultinomialNB\n",
        "from sklearn.model_selection import cross_val_score, cross_val_predict, KFold\n",
        "from sklearn.metrics  import confusion_matrix, classification_report\n",
        "from sklearn import metrics\n"
      ],
      "metadata": {
        "id": "nnWYA6nSGIfp"
      },
      "execution_count": null,
      "outputs": []
    },
    {
      "cell_type": "code",
      "source": [
        "df = pd.read_csv(\"/content/bankExtractionClassificationNew.csv\")\n"
      ],
      "metadata": {
        "id": "hKWDQHU_mU2k"
      },
      "execution_count": null,
      "outputs": []
    },
    {
      "cell_type": "markdown",
      "source": [
        "## Descriptive"
      ],
      "metadata": {
        "id": "UI__anN-EUYp"
      }
    },
    {
      "cell_type": "code",
      "source": [
        "positive_df = df[df['Classification'] == \"positive\"]\n",
        "negative_df = df[df['Classification'] == \"negative\"]\n",
        "\n",
        "frames = [positive_df, negative_df]\n",
        "data_df = pd.concat(frames)"
      ],
      "metadata": {
        "id": "Ui7-W_3mGRQt"
      },
      "execution_count": null,
      "outputs": []
    },
    {
      "cell_type": "markdown",
      "source": [
        "### Word Cloud"
      ],
      "metadata": {
        "id": "xmwY-9dLQqhy"
      }
    },
    {
      "cell_type": "code",
      "source": [
        "#word cloud positive\n",
        "text = str(positive_df['Cleaned'])\n",
        "\n",
        "#remove english letters if any\n",
        "text = re.sub(r'[a-zA-Z]', r'', text)\n",
        "\n",
        "reshaped_text = arabic_reshaper.reshape(text)  \n",
        "\n",
        "data = get_display(reshaped_text)\n",
        "\n",
        "Cloud = WordCloud(\n",
        "    font_path= '/content/SFArabic.ttf', # arabic font to display arabic letters\n",
        "     background_color='white', mode='RGB', width=2000, height=1000, max_words=600).generate(data)\n",
        "\n",
        "plt.figure(figsize=(16,8))\n",
        "\n",
        "plt.title(\"wordCloud\")\n",
        "plt.axis(\"off\")\n",
        "\n",
        "plt.imshow(Cloud, interpolation= \"bilinear\")\n",
        "\n",
        "plt.show()"
      ],
      "metadata": {
        "id": "qvBwJOqXESwm",
        "colab": {
          "base_uri": "https://localhost:8080/",
          "height": 392
        },
        "outputId": "808db382-0d16-45b9-d072-b6c352d23274"
      },
      "execution_count": null,
      "outputs": [
        {
          "output_type": "error",
          "ename": "OSError",
          "evalue": "ignored",
          "traceback": [
            "\u001b[0;31m---------------------------------------------------------------------------\u001b[0m",
            "\u001b[0;31mOSError\u001b[0m                                   Traceback (most recent call last)",
            "\u001b[0;32m<ipython-input-25-9103d176998d>\u001b[0m in \u001b[0;36m<module>\u001b[0;34m()\u001b[0m\n\u001b[1;32m     11\u001b[0m Cloud = WordCloud(\n\u001b[1;32m     12\u001b[0m     \u001b[0mfont_path\u001b[0m\u001b[0;34m=\u001b[0m \u001b[0;34m'/content/SFArabic.ttf'\u001b[0m\u001b[0;34m,\u001b[0m \u001b[0;31m# arabic font to display arabic letters\u001b[0m\u001b[0;34m\u001b[0m\u001b[0;34m\u001b[0m\u001b[0m\n\u001b[0;32m---> 13\u001b[0;31m      background_color='white', mode='RGB', width=2000, height=1000, max_words=600).generate(data)\n\u001b[0m\u001b[1;32m     14\u001b[0m \u001b[0;34m\u001b[0m\u001b[0m\n\u001b[1;32m     15\u001b[0m \u001b[0mplt\u001b[0m\u001b[0;34m.\u001b[0m\u001b[0mfigure\u001b[0m\u001b[0;34m(\u001b[0m\u001b[0mfigsize\u001b[0m\u001b[0;34m=\u001b[0m\u001b[0;34m(\u001b[0m\u001b[0;36m16\u001b[0m\u001b[0;34m,\u001b[0m\u001b[0;36m8\u001b[0m\u001b[0;34m)\u001b[0m\u001b[0;34m)\u001b[0m\u001b[0;34m\u001b[0m\u001b[0;34m\u001b[0m\u001b[0m\n",
            "\u001b[0;32m/usr/local/lib/python3.7/dist-packages/wordcloud/wordcloud.py\u001b[0m in \u001b[0;36mgenerate\u001b[0;34m(self, text)\u001b[0m\n\u001b[1;32m    603\u001b[0m         \u001b[0mself\u001b[0m\u001b[0;34m\u001b[0m\u001b[0;34m\u001b[0m\u001b[0m\n\u001b[1;32m    604\u001b[0m         \"\"\"\n\u001b[0;32m--> 605\u001b[0;31m         \u001b[0;32mreturn\u001b[0m \u001b[0mself\u001b[0m\u001b[0;34m.\u001b[0m\u001b[0mgenerate_from_text\u001b[0m\u001b[0;34m(\u001b[0m\u001b[0mtext\u001b[0m\u001b[0;34m)\u001b[0m\u001b[0;34m\u001b[0m\u001b[0;34m\u001b[0m\u001b[0m\n\u001b[0m\u001b[1;32m    606\u001b[0m \u001b[0;34m\u001b[0m\u001b[0m\n\u001b[1;32m    607\u001b[0m     \u001b[0;32mdef\u001b[0m \u001b[0m_check_generated\u001b[0m\u001b[0;34m(\u001b[0m\u001b[0mself\u001b[0m\u001b[0;34m)\u001b[0m\u001b[0;34m:\u001b[0m\u001b[0;34m\u001b[0m\u001b[0;34m\u001b[0m\u001b[0m\n",
            "\u001b[0;32m/usr/local/lib/python3.7/dist-packages/wordcloud/wordcloud.py\u001b[0m in \u001b[0;36mgenerate_from_text\u001b[0;34m(self, text)\u001b[0m\n\u001b[1;32m    585\u001b[0m         \"\"\"\n\u001b[1;32m    586\u001b[0m         \u001b[0mwords\u001b[0m \u001b[0;34m=\u001b[0m \u001b[0mself\u001b[0m\u001b[0;34m.\u001b[0m\u001b[0mprocess_text\u001b[0m\u001b[0;34m(\u001b[0m\u001b[0mtext\u001b[0m\u001b[0;34m)\u001b[0m\u001b[0;34m\u001b[0m\u001b[0;34m\u001b[0m\u001b[0m\n\u001b[0;32m--> 587\u001b[0;31m         \u001b[0mself\u001b[0m\u001b[0;34m.\u001b[0m\u001b[0mgenerate_from_frequencies\u001b[0m\u001b[0;34m(\u001b[0m\u001b[0mwords\u001b[0m\u001b[0;34m)\u001b[0m\u001b[0;34m\u001b[0m\u001b[0;34m\u001b[0m\u001b[0m\n\u001b[0m\u001b[1;32m    588\u001b[0m         \u001b[0;32mreturn\u001b[0m \u001b[0mself\u001b[0m\u001b[0;34m\u001b[0m\u001b[0;34m\u001b[0m\u001b[0m\n\u001b[1;32m    589\u001b[0m \u001b[0;34m\u001b[0m\u001b[0m\n",
            "\u001b[0;32m/usr/local/lib/python3.7/dist-packages/wordcloud/wordcloud.py\u001b[0m in \u001b[0;36mgenerate_from_frequencies\u001b[0;34m(self, frequencies, max_font_size)\u001b[0m\n\u001b[1;32m    424\u001b[0m             \u001b[0;32melse\u001b[0m\u001b[0;34m:\u001b[0m\u001b[0;34m\u001b[0m\u001b[0;34m\u001b[0m\u001b[0m\n\u001b[1;32m    425\u001b[0m                 self.generate_from_frequencies(dict(frequencies[:2]),\n\u001b[0;32m--> 426\u001b[0;31m                                                max_font_size=self.height)\n\u001b[0m\u001b[1;32m    427\u001b[0m                 \u001b[0;31m# find font sizes\u001b[0m\u001b[0;34m\u001b[0m\u001b[0;34m\u001b[0m\u001b[0;34m\u001b[0m\u001b[0m\n\u001b[1;32m    428\u001b[0m                 \u001b[0msizes\u001b[0m \u001b[0;34m=\u001b[0m \u001b[0;34m[\u001b[0m\u001b[0mx\u001b[0m\u001b[0;34m[\u001b[0m\u001b[0;36m1\u001b[0m\u001b[0;34m]\u001b[0m \u001b[0;32mfor\u001b[0m \u001b[0mx\u001b[0m \u001b[0;32min\u001b[0m \u001b[0mself\u001b[0m\u001b[0;34m.\u001b[0m\u001b[0mlayout_\u001b[0m\u001b[0;34m]\u001b[0m\u001b[0;34m\u001b[0m\u001b[0;34m\u001b[0m\u001b[0m\n",
            "\u001b[0;32m/usr/local/lib/python3.7/dist-packages/wordcloud/wordcloud.py\u001b[0m in \u001b[0;36mgenerate_from_frequencies\u001b[0;34m(self, frequencies, max_font_size)\u001b[0m\n\u001b[1;32m    471\u001b[0m             \u001b[0;32mwhile\u001b[0m \u001b[0;32mTrue\u001b[0m\u001b[0;34m:\u001b[0m\u001b[0;34m\u001b[0m\u001b[0;34m\u001b[0m\u001b[0m\n\u001b[1;32m    472\u001b[0m                 \u001b[0;31m# try to find a position\u001b[0m\u001b[0;34m\u001b[0m\u001b[0;34m\u001b[0m\u001b[0;34m\u001b[0m\u001b[0m\n\u001b[0;32m--> 473\u001b[0;31m                 \u001b[0mfont\u001b[0m \u001b[0;34m=\u001b[0m \u001b[0mImageFont\u001b[0m\u001b[0;34m.\u001b[0m\u001b[0mtruetype\u001b[0m\u001b[0;34m(\u001b[0m\u001b[0mself\u001b[0m\u001b[0;34m.\u001b[0m\u001b[0mfont_path\u001b[0m\u001b[0;34m,\u001b[0m \u001b[0mfont_size\u001b[0m\u001b[0;34m)\u001b[0m\u001b[0;34m\u001b[0m\u001b[0;34m\u001b[0m\u001b[0m\n\u001b[0m\u001b[1;32m    474\u001b[0m                 \u001b[0;31m# transpose font optionally\u001b[0m\u001b[0;34m\u001b[0m\u001b[0;34m\u001b[0m\u001b[0;34m\u001b[0m\u001b[0m\n\u001b[1;32m    475\u001b[0m                 transposed_font = ImageFont.TransposedFont(\n",
            "\u001b[0;32m/usr/local/lib/python3.7/dist-packages/PIL/ImageFont.py\u001b[0m in \u001b[0;36mtruetype\u001b[0;34m(font, size, index, encoding, layout_engine)\u001b[0m\n\u001b[1;32m    646\u001b[0m \u001b[0;34m\u001b[0m\u001b[0m\n\u001b[1;32m    647\u001b[0m     \u001b[0;32mtry\u001b[0m\u001b[0;34m:\u001b[0m\u001b[0;34m\u001b[0m\u001b[0;34m\u001b[0m\u001b[0m\n\u001b[0;32m--> 648\u001b[0;31m         \u001b[0;32mreturn\u001b[0m \u001b[0mfreetype\u001b[0m\u001b[0;34m(\u001b[0m\u001b[0mfont\u001b[0m\u001b[0;34m)\u001b[0m\u001b[0;34m\u001b[0m\u001b[0;34m\u001b[0m\u001b[0m\n\u001b[0m\u001b[1;32m    649\u001b[0m     \u001b[0;32mexcept\u001b[0m \u001b[0mOSError\u001b[0m\u001b[0;34m:\u001b[0m\u001b[0;34m\u001b[0m\u001b[0;34m\u001b[0m\u001b[0m\n\u001b[1;32m    650\u001b[0m         \u001b[0;32mif\u001b[0m \u001b[0;32mnot\u001b[0m \u001b[0misPath\u001b[0m\u001b[0;34m(\u001b[0m\u001b[0mfont\u001b[0m\u001b[0;34m)\u001b[0m\u001b[0;34m:\u001b[0m\u001b[0;34m\u001b[0m\u001b[0;34m\u001b[0m\u001b[0m\n",
            "\u001b[0;32m/usr/local/lib/python3.7/dist-packages/PIL/ImageFont.py\u001b[0m in \u001b[0;36mfreetype\u001b[0;34m(font)\u001b[0m\n\u001b[1;32m    643\u001b[0m \u001b[0;34m\u001b[0m\u001b[0m\n\u001b[1;32m    644\u001b[0m     \u001b[0;32mdef\u001b[0m \u001b[0mfreetype\u001b[0m\u001b[0;34m(\u001b[0m\u001b[0mfont\u001b[0m\u001b[0;34m)\u001b[0m\u001b[0;34m:\u001b[0m\u001b[0;34m\u001b[0m\u001b[0;34m\u001b[0m\u001b[0m\n\u001b[0;32m--> 645\u001b[0;31m         \u001b[0;32mreturn\u001b[0m \u001b[0mFreeTypeFont\u001b[0m\u001b[0;34m(\u001b[0m\u001b[0mfont\u001b[0m\u001b[0;34m,\u001b[0m \u001b[0msize\u001b[0m\u001b[0;34m,\u001b[0m \u001b[0mindex\u001b[0m\u001b[0;34m,\u001b[0m \u001b[0mencoding\u001b[0m\u001b[0;34m,\u001b[0m \u001b[0mlayout_engine\u001b[0m\u001b[0;34m)\u001b[0m\u001b[0;34m\u001b[0m\u001b[0;34m\u001b[0m\u001b[0m\n\u001b[0m\u001b[1;32m    646\u001b[0m \u001b[0;34m\u001b[0m\u001b[0m\n\u001b[1;32m    647\u001b[0m     \u001b[0;32mtry\u001b[0m\u001b[0;34m:\u001b[0m\u001b[0;34m\u001b[0m\u001b[0;34m\u001b[0m\u001b[0m\n",
            "\u001b[0;32m/usr/local/lib/python3.7/dist-packages/PIL/ImageFont.py\u001b[0m in \u001b[0;36m__init__\u001b[0;34m(self, font, size, index, encoding, layout_engine)\u001b[0m\n\u001b[1;32m    192\u001b[0m                     \u001b[0;32mreturn\u001b[0m\u001b[0;34m\u001b[0m\u001b[0;34m\u001b[0m\u001b[0m\n\u001b[1;32m    193\u001b[0m             self.font = core.getfont(\n\u001b[0;32m--> 194\u001b[0;31m                 \u001b[0mfont\u001b[0m\u001b[0;34m,\u001b[0m \u001b[0msize\u001b[0m\u001b[0;34m,\u001b[0m \u001b[0mindex\u001b[0m\u001b[0;34m,\u001b[0m \u001b[0mencoding\u001b[0m\u001b[0;34m,\u001b[0m \u001b[0mlayout_engine\u001b[0m\u001b[0;34m=\u001b[0m\u001b[0mlayout_engine\u001b[0m\u001b[0;34m\u001b[0m\u001b[0;34m\u001b[0m\u001b[0m\n\u001b[0m\u001b[1;32m    195\u001b[0m             )\n\u001b[1;32m    196\u001b[0m         \u001b[0;32melse\u001b[0m\u001b[0;34m:\u001b[0m\u001b[0;34m\u001b[0m\u001b[0;34m\u001b[0m\u001b[0m\n",
            "\u001b[0;31mOSError\u001b[0m: cannot open resource"
          ]
        }
      ]
    },
    {
      "cell_type": "code",
      "source": [
        "#word cloud negative\n",
        "\n",
        "text = str(negative_df['Cleaned'])\n",
        "\n",
        "#remove english letters if any\n",
        "text = re.sub(r'[a-zA-Z]', r'', text)\n",
        "\n",
        "reshaped_text = arabic_reshaper.reshape(text)  \n",
        "\n",
        "data = get_display(reshaped_text)\n",
        "\n",
        "Cloud = WordCloud(\n",
        "    font_path= '/content/SFArabic.ttf', # arabic font to display arabic letters\n",
        "     background_color='white', mode='RGB', width=2000, height=1000, max_words=600).generate(data)\n",
        "\n",
        "plt.figure(figsize=(16,8))\n",
        "\n",
        "plt.title(\"wordCloud\")\n",
        "plt.axis(\"off\")\n",
        "\n",
        "plt.imshow(Cloud, interpolation= \"bilinear\")\n",
        "\n",
        "plt.show()"
      ],
      "metadata": {
        "id": "d7WsG2BOElui"
      },
      "execution_count": null,
      "outputs": []
    },
    {
      "cell_type": "markdown",
      "source": [
        "###Mean, Variance, Standard deviation"
      ],
      "metadata": {
        "id": "nOpE8q-WQwA-"
      }
    },
    {
      "cell_type": "code",
      "source": [
        "#mean, variance, standard deviation ...\n",
        "df2 = df.describe().loc[['mean', 'std']]\n",
        "df2.loc['variance'] = df2.loc['std']**2\n",
        "df2"
      ],
      "metadata": {
        "id": "10l24bDfEYtN",
        "colab": {
          "base_uri": "https://localhost:8080/",
          "height": 143
        },
        "outputId": "6d92eed6-ed89-4138-8851-651a2e44017f"
      },
      "execution_count": null,
      "outputs": [
        {
          "output_type": "execute_result",
          "data": {
            "text/plain": [
              "           Retweets       Likes       Length  Cleaned length\n",
              "mean       0.201875    0.408675    97.253520       67.246765\n",
              "std        5.414462   13.090425    66.866094       58.093529\n",
              "variance  29.316398  171.359225  4471.074492     3374.858158"
            ],
            "text/html": [
              "\n",
              "  <div id=\"df-21f639b9-6c74-4bb6-92c4-d1658ce21b5b\">\n",
              "    <div class=\"colab-df-container\">\n",
              "      <div>\n",
              "<style scoped>\n",
              "    .dataframe tbody tr th:only-of-type {\n",
              "        vertical-align: middle;\n",
              "    }\n",
              "\n",
              "    .dataframe tbody tr th {\n",
              "        vertical-align: top;\n",
              "    }\n",
              "\n",
              "    .dataframe thead th {\n",
              "        text-align: right;\n",
              "    }\n",
              "</style>\n",
              "<table border=\"1\" class=\"dataframe\">\n",
              "  <thead>\n",
              "    <tr style=\"text-align: right;\">\n",
              "      <th></th>\n",
              "      <th>Retweets</th>\n",
              "      <th>Likes</th>\n",
              "      <th>Length</th>\n",
              "      <th>Cleaned length</th>\n",
              "    </tr>\n",
              "  </thead>\n",
              "  <tbody>\n",
              "    <tr>\n",
              "      <th>mean</th>\n",
              "      <td>0.201875</td>\n",
              "      <td>0.408675</td>\n",
              "      <td>97.253520</td>\n",
              "      <td>67.246765</td>\n",
              "    </tr>\n",
              "    <tr>\n",
              "      <th>std</th>\n",
              "      <td>5.414462</td>\n",
              "      <td>13.090425</td>\n",
              "      <td>66.866094</td>\n",
              "      <td>58.093529</td>\n",
              "    </tr>\n",
              "    <tr>\n",
              "      <th>variance</th>\n",
              "      <td>29.316398</td>\n",
              "      <td>171.359225</td>\n",
              "      <td>4471.074492</td>\n",
              "      <td>3374.858158</td>\n",
              "    </tr>\n",
              "  </tbody>\n",
              "</table>\n",
              "</div>\n",
              "      <button class=\"colab-df-convert\" onclick=\"convertToInteractive('df-21f639b9-6c74-4bb6-92c4-d1658ce21b5b')\"\n",
              "              title=\"Convert this dataframe to an interactive table.\"\n",
              "              style=\"display:none;\">\n",
              "        \n",
              "  <svg xmlns=\"http://www.w3.org/2000/svg\" height=\"24px\"viewBox=\"0 0 24 24\"\n",
              "       width=\"24px\">\n",
              "    <path d=\"M0 0h24v24H0V0z\" fill=\"none\"/>\n",
              "    <path d=\"M18.56 5.44l.94 2.06.94-2.06 2.06-.94-2.06-.94-.94-2.06-.94 2.06-2.06.94zm-11 1L8.5 8.5l.94-2.06 2.06-.94-2.06-.94L8.5 2.5l-.94 2.06-2.06.94zm10 10l.94 2.06.94-2.06 2.06-.94-2.06-.94-.94-2.06-.94 2.06-2.06.94z\"/><path d=\"M17.41 7.96l-1.37-1.37c-.4-.4-.92-.59-1.43-.59-.52 0-1.04.2-1.43.59L10.3 9.45l-7.72 7.72c-.78.78-.78 2.05 0 2.83L4 21.41c.39.39.9.59 1.41.59.51 0 1.02-.2 1.41-.59l7.78-7.78 2.81-2.81c.8-.78.8-2.07 0-2.86zM5.41 20L4 18.59l7.72-7.72 1.47 1.35L5.41 20z\"/>\n",
              "  </svg>\n",
              "      </button>\n",
              "      \n",
              "  <style>\n",
              "    .colab-df-container {\n",
              "      display:flex;\n",
              "      flex-wrap:wrap;\n",
              "      gap: 12px;\n",
              "    }\n",
              "\n",
              "    .colab-df-convert {\n",
              "      background-color: #E8F0FE;\n",
              "      border: none;\n",
              "      border-radius: 50%;\n",
              "      cursor: pointer;\n",
              "      display: none;\n",
              "      fill: #1967D2;\n",
              "      height: 32px;\n",
              "      padding: 0 0 0 0;\n",
              "      width: 32px;\n",
              "    }\n",
              "\n",
              "    .colab-df-convert:hover {\n",
              "      background-color: #E2EBFA;\n",
              "      box-shadow: 0px 1px 2px rgba(60, 64, 67, 0.3), 0px 1px 3px 1px rgba(60, 64, 67, 0.15);\n",
              "      fill: #174EA6;\n",
              "    }\n",
              "\n",
              "    [theme=dark] .colab-df-convert {\n",
              "      background-color: #3B4455;\n",
              "      fill: #D2E3FC;\n",
              "    }\n",
              "\n",
              "    [theme=dark] .colab-df-convert:hover {\n",
              "      background-color: #434B5C;\n",
              "      box-shadow: 0px 1px 3px 1px rgba(0, 0, 0, 0.15);\n",
              "      filter: drop-shadow(0px 1px 2px rgba(0, 0, 0, 0.3));\n",
              "      fill: #FFFFFF;\n",
              "    }\n",
              "  </style>\n",
              "\n",
              "      <script>\n",
              "        const buttonEl =\n",
              "          document.querySelector('#df-21f639b9-6c74-4bb6-92c4-d1658ce21b5b button.colab-df-convert');\n",
              "        buttonEl.style.display =\n",
              "          google.colab.kernel.accessAllowed ? 'block' : 'none';\n",
              "\n",
              "        async function convertToInteractive(key) {\n",
              "          const element = document.querySelector('#df-21f639b9-6c74-4bb6-92c4-d1658ce21b5b');\n",
              "          const dataTable =\n",
              "            await google.colab.kernel.invokeFunction('convertToInteractive',\n",
              "                                                     [key], {});\n",
              "          if (!dataTable) return;\n",
              "\n",
              "          const docLinkHtml = 'Like what you see? Visit the ' +\n",
              "            '<a target=\"_blank\" href=https://colab.research.google.com/notebooks/data_table.ipynb>data table notebook</a>'\n",
              "            + ' to learn more about interactive tables.';\n",
              "          element.innerHTML = '';\n",
              "          dataTable['output_type'] = 'display_data';\n",
              "          await google.colab.output.renderOutput(dataTable, element);\n",
              "          const docLink = document.createElement('div');\n",
              "          docLink.innerHTML = docLinkHtml;\n",
              "          element.appendChild(docLink);\n",
              "        }\n",
              "      </script>\n",
              "    </div>\n",
              "  </div>\n",
              "  "
            ]
          },
          "metadata": {},
          "execution_count": 26
        }
      ]
    },
    {
      "cell_type": "markdown",
      "source": [
        "###Most Faved, Retweeted"
      ],
      "metadata": {
        "id": "eQa7Y4cERGpQ"
      }
    },
    {
      "cell_type": "code",
      "source": [
        "# most faved\n",
        "data_df.nlargest(5,['Likes'])"
      ],
      "metadata": {
        "id": "Gc09CwoUEa6O",
        "colab": {
          "base_uri": "https://localhost:8080/",
          "height": 206
        },
        "outputId": "73a311e0-168f-4728-c0be-7aa85ae48f64"
      },
      "execution_count": null,
      "outputs": [
        {
          "output_type": "execute_result",
          "data": {
            "text/plain": [
              "                                                  Tweet  Retweets  Likes  \\\n",
              "489   بنك الراجحي مثال جيد للشركات المواكبة للتغيير ...         1     20   \n",
              "854   @SaudiBanks المشكله مهي ان فيه ناس يصدقونهم\\nا...         1     16   \n",
              "452   @binsulaiman @faisal_rakan_ سحب مني من بنك الر...         3     15   \n",
              "2872  @alrajhibank وش مشكله الصرافات ما تشتغل ولا ال...         4     14   \n",
              "1757  #الراجحي @alrajhibank حاط تصاميم كثيرة للتطبيق...         3      8   \n",
              "\n",
              "      Length                 Created At  \\\n",
              "489      260  2022-02-20 07:42:06+00:00   \n",
              "854      145  2022-02-17 14:52:31+00:00   \n",
              "452      269  2022-02-20 09:20:50+00:00   \n",
              "2872      61  2022-02-20 23:15:35+00:00   \n",
              "1757      95  2022-02-22 16:39:53+00:00   \n",
              "\n",
              "                                                Cleaned  Cleaned length  \\\n",
              "489   بنك الراجحي مثال جيد للشركات المواكبه للتغيير ...           240.0   \n",
              "854   المشكله مهي ان ناس يصدقونهم المشكله ماتصير الا...           116.0   \n",
              "452   سحب مني من بنك الراجحي ومارحع الا جزء بسيط وحس...           228.0   \n",
              "2872         وش مشكله الصرافات ما تشتغل الشراء اون لاين            43.0   \n",
              "1757  الراجحي حاط تصاميم كثيره للتطبيق حقه ايش افضل ...            56.0   \n",
              "\n",
              "     Classification  \n",
              "489        positive  \n",
              "854        negative  \n",
              "452        negative  \n",
              "2872       negative  \n",
              "1757       positive  "
            ],
            "text/html": [
              "\n",
              "  <div id=\"df-07853631-96aa-4738-bdf0-85cb61787e56\">\n",
              "    <div class=\"colab-df-container\">\n",
              "      <div>\n",
              "<style scoped>\n",
              "    .dataframe tbody tr th:only-of-type {\n",
              "        vertical-align: middle;\n",
              "    }\n",
              "\n",
              "    .dataframe tbody tr th {\n",
              "        vertical-align: top;\n",
              "    }\n",
              "\n",
              "    .dataframe thead th {\n",
              "        text-align: right;\n",
              "    }\n",
              "</style>\n",
              "<table border=\"1\" class=\"dataframe\">\n",
              "  <thead>\n",
              "    <tr style=\"text-align: right;\">\n",
              "      <th></th>\n",
              "      <th>Tweet</th>\n",
              "      <th>Retweets</th>\n",
              "      <th>Likes</th>\n",
              "      <th>Length</th>\n",
              "      <th>Created At</th>\n",
              "      <th>Cleaned</th>\n",
              "      <th>Cleaned length</th>\n",
              "      <th>Classification</th>\n",
              "    </tr>\n",
              "  </thead>\n",
              "  <tbody>\n",
              "    <tr>\n",
              "      <th>489</th>\n",
              "      <td>بنك الراجحي مثال جيد للشركات المواكبة للتغيير ...</td>\n",
              "      <td>1</td>\n",
              "      <td>20</td>\n",
              "      <td>260</td>\n",
              "      <td>2022-02-20 07:42:06+00:00</td>\n",
              "      <td>بنك الراجحي مثال جيد للشركات المواكبه للتغيير ...</td>\n",
              "      <td>240.0</td>\n",
              "      <td>positive</td>\n",
              "    </tr>\n",
              "    <tr>\n",
              "      <th>854</th>\n",
              "      <td>@SaudiBanks المشكله مهي ان فيه ناس يصدقونهم\\nا...</td>\n",
              "      <td>1</td>\n",
              "      <td>16</td>\n",
              "      <td>145</td>\n",
              "      <td>2022-02-17 14:52:31+00:00</td>\n",
              "      <td>المشكله مهي ان ناس يصدقونهم المشكله ماتصير الا...</td>\n",
              "      <td>116.0</td>\n",
              "      <td>negative</td>\n",
              "    </tr>\n",
              "    <tr>\n",
              "      <th>452</th>\n",
              "      <td>@binsulaiman @faisal_rakan_ سحب مني من بنك الر...</td>\n",
              "      <td>3</td>\n",
              "      <td>15</td>\n",
              "      <td>269</td>\n",
              "      <td>2022-02-20 09:20:50+00:00</td>\n",
              "      <td>سحب مني من بنك الراجحي ومارحع الا جزء بسيط وحس...</td>\n",
              "      <td>228.0</td>\n",
              "      <td>negative</td>\n",
              "    </tr>\n",
              "    <tr>\n",
              "      <th>2872</th>\n",
              "      <td>@alrajhibank وش مشكله الصرافات ما تشتغل ولا ال...</td>\n",
              "      <td>4</td>\n",
              "      <td>14</td>\n",
              "      <td>61</td>\n",
              "      <td>2022-02-20 23:15:35+00:00</td>\n",
              "      <td>وش مشكله الصرافات ما تشتغل الشراء اون لاين</td>\n",
              "      <td>43.0</td>\n",
              "      <td>negative</td>\n",
              "    </tr>\n",
              "    <tr>\n",
              "      <th>1757</th>\n",
              "      <td>#الراجحي @alrajhibank حاط تصاميم كثيرة للتطبيق...</td>\n",
              "      <td>3</td>\n",
              "      <td>8</td>\n",
              "      <td>95</td>\n",
              "      <td>2022-02-22 16:39:53+00:00</td>\n",
              "      <td>الراجحي حاط تصاميم كثيره للتطبيق حقه ايش افضل ...</td>\n",
              "      <td>56.0</td>\n",
              "      <td>positive</td>\n",
              "    </tr>\n",
              "  </tbody>\n",
              "</table>\n",
              "</div>\n",
              "      <button class=\"colab-df-convert\" onclick=\"convertToInteractive('df-07853631-96aa-4738-bdf0-85cb61787e56')\"\n",
              "              title=\"Convert this dataframe to an interactive table.\"\n",
              "              style=\"display:none;\">\n",
              "        \n",
              "  <svg xmlns=\"http://www.w3.org/2000/svg\" height=\"24px\"viewBox=\"0 0 24 24\"\n",
              "       width=\"24px\">\n",
              "    <path d=\"M0 0h24v24H0V0z\" fill=\"none\"/>\n",
              "    <path d=\"M18.56 5.44l.94 2.06.94-2.06 2.06-.94-2.06-.94-.94-2.06-.94 2.06-2.06.94zm-11 1L8.5 8.5l.94-2.06 2.06-.94-2.06-.94L8.5 2.5l-.94 2.06-2.06.94zm10 10l.94 2.06.94-2.06 2.06-.94-2.06-.94-.94-2.06-.94 2.06-2.06.94z\"/><path d=\"M17.41 7.96l-1.37-1.37c-.4-.4-.92-.59-1.43-.59-.52 0-1.04.2-1.43.59L10.3 9.45l-7.72 7.72c-.78.78-.78 2.05 0 2.83L4 21.41c.39.39.9.59 1.41.59.51 0 1.02-.2 1.41-.59l7.78-7.78 2.81-2.81c.8-.78.8-2.07 0-2.86zM5.41 20L4 18.59l7.72-7.72 1.47 1.35L5.41 20z\"/>\n",
              "  </svg>\n",
              "      </button>\n",
              "      \n",
              "  <style>\n",
              "    .colab-df-container {\n",
              "      display:flex;\n",
              "      flex-wrap:wrap;\n",
              "      gap: 12px;\n",
              "    }\n",
              "\n",
              "    .colab-df-convert {\n",
              "      background-color: #E8F0FE;\n",
              "      border: none;\n",
              "      border-radius: 50%;\n",
              "      cursor: pointer;\n",
              "      display: none;\n",
              "      fill: #1967D2;\n",
              "      height: 32px;\n",
              "      padding: 0 0 0 0;\n",
              "      width: 32px;\n",
              "    }\n",
              "\n",
              "    .colab-df-convert:hover {\n",
              "      background-color: #E2EBFA;\n",
              "      box-shadow: 0px 1px 2px rgba(60, 64, 67, 0.3), 0px 1px 3px 1px rgba(60, 64, 67, 0.15);\n",
              "      fill: #174EA6;\n",
              "    }\n",
              "\n",
              "    [theme=dark] .colab-df-convert {\n",
              "      background-color: #3B4455;\n",
              "      fill: #D2E3FC;\n",
              "    }\n",
              "\n",
              "    [theme=dark] .colab-df-convert:hover {\n",
              "      background-color: #434B5C;\n",
              "      box-shadow: 0px 1px 3px 1px rgba(0, 0, 0, 0.15);\n",
              "      filter: drop-shadow(0px 1px 2px rgba(0, 0, 0, 0.3));\n",
              "      fill: #FFFFFF;\n",
              "    }\n",
              "  </style>\n",
              "\n",
              "      <script>\n",
              "        const buttonEl =\n",
              "          document.querySelector('#df-07853631-96aa-4738-bdf0-85cb61787e56 button.colab-df-convert');\n",
              "        buttonEl.style.display =\n",
              "          google.colab.kernel.accessAllowed ? 'block' : 'none';\n",
              "\n",
              "        async function convertToInteractive(key) {\n",
              "          const element = document.querySelector('#df-07853631-96aa-4738-bdf0-85cb61787e56');\n",
              "          const dataTable =\n",
              "            await google.colab.kernel.invokeFunction('convertToInteractive',\n",
              "                                                     [key], {});\n",
              "          if (!dataTable) return;\n",
              "\n",
              "          const docLinkHtml = 'Like what you see? Visit the ' +\n",
              "            '<a target=\"_blank\" href=https://colab.research.google.com/notebooks/data_table.ipynb>data table notebook</a>'\n",
              "            + ' to learn more about interactive tables.';\n",
              "          element.innerHTML = '';\n",
              "          dataTable['output_type'] = 'display_data';\n",
              "          await google.colab.output.renderOutput(dataTable, element);\n",
              "          const docLink = document.createElement('div');\n",
              "          docLink.innerHTML = docLinkHtml;\n",
              "          element.appendChild(docLink);\n",
              "        }\n",
              "      </script>\n",
              "    </div>\n",
              "  </div>\n",
              "  "
            ]
          },
          "metadata": {},
          "execution_count": 27
        }
      ]
    },
    {
      "cell_type": "code",
      "source": [
        "#most retweeted\n",
        "data_df.nlargest(5,['Retweets'])"
      ],
      "metadata": {
        "id": "uP5dOdRRIBAP",
        "colab": {
          "base_uri": "https://localhost:8080/",
          "height": 206
        },
        "outputId": "7433edd9-40c8-4e00-af17-c4e3ed8ccb4b"
      },
      "execution_count": null,
      "outputs": [
        {
          "output_type": "execute_result",
          "data": {
            "text/plain": [
              "                                                  Tweet  Retweets  Likes  \\\n",
              "2872  @alrajhibank وش مشكله الصرافات ما تشتغل ولا ال...         4     14   \n",
              "1757  #الراجحي @alrajhibank حاط تصاميم كثيرة للتطبيق...         3      8   \n",
              "2593  من كثر ما تطبيق @alrajhibank مميز حاطين للعميل...         3      5   \n",
              "452   @binsulaiman @faisal_rakan_ سحب مني من بنك الر...         3     15   \n",
              "847   @SAMAcares اقدم لكم شكوى على بنك الراجحي فرع ا...         3      3   \n",
              "\n",
              "      Length                 Created At  \\\n",
              "2872      61  2022-02-20 23:15:35+00:00   \n",
              "1757      95  2022-02-22 16:39:53+00:00   \n",
              "2593     180  2022-02-21 13:11:20+00:00   \n",
              "452      269  2022-02-20 09:20:50+00:00   \n",
              "847      206  2022-02-17 15:50:04+00:00   \n",
              "\n",
              "                                                Cleaned  Cleaned length  \\\n",
              "2872         وش مشكله الصرافات ما تشتغل الشراء اون لاين            43.0   \n",
              "1757  الراجحي حاط تصاميم كثيره للتطبيق حقه ايش افضل ...            56.0   \n",
              "2593  من كثر ما تطبيق مميز حاطين للعميل ثيمات عشان م...           139.0   \n",
              "452   سحب مني من بنك الراجحي ومارحع الا جزء بسيط وحس...           228.0   \n",
              "847   اقدم شكوي بنك الراجحي فرع السليمانيه اقفلت حسا...           173.0   \n",
              "\n",
              "     Classification  \n",
              "2872       negative  \n",
              "1757       positive  \n",
              "2593       positive  \n",
              "452        negative  \n",
              "847        negative  "
            ],
            "text/html": [
              "\n",
              "  <div id=\"df-6f269d7e-b748-423b-9b45-909b3d952ef0\">\n",
              "    <div class=\"colab-df-container\">\n",
              "      <div>\n",
              "<style scoped>\n",
              "    .dataframe tbody tr th:only-of-type {\n",
              "        vertical-align: middle;\n",
              "    }\n",
              "\n",
              "    .dataframe tbody tr th {\n",
              "        vertical-align: top;\n",
              "    }\n",
              "\n",
              "    .dataframe thead th {\n",
              "        text-align: right;\n",
              "    }\n",
              "</style>\n",
              "<table border=\"1\" class=\"dataframe\">\n",
              "  <thead>\n",
              "    <tr style=\"text-align: right;\">\n",
              "      <th></th>\n",
              "      <th>Tweet</th>\n",
              "      <th>Retweets</th>\n",
              "      <th>Likes</th>\n",
              "      <th>Length</th>\n",
              "      <th>Created At</th>\n",
              "      <th>Cleaned</th>\n",
              "      <th>Cleaned length</th>\n",
              "      <th>Classification</th>\n",
              "    </tr>\n",
              "  </thead>\n",
              "  <tbody>\n",
              "    <tr>\n",
              "      <th>2872</th>\n",
              "      <td>@alrajhibank وش مشكله الصرافات ما تشتغل ولا ال...</td>\n",
              "      <td>4</td>\n",
              "      <td>14</td>\n",
              "      <td>61</td>\n",
              "      <td>2022-02-20 23:15:35+00:00</td>\n",
              "      <td>وش مشكله الصرافات ما تشتغل الشراء اون لاين</td>\n",
              "      <td>43.0</td>\n",
              "      <td>negative</td>\n",
              "    </tr>\n",
              "    <tr>\n",
              "      <th>1757</th>\n",
              "      <td>#الراجحي @alrajhibank حاط تصاميم كثيرة للتطبيق...</td>\n",
              "      <td>3</td>\n",
              "      <td>8</td>\n",
              "      <td>95</td>\n",
              "      <td>2022-02-22 16:39:53+00:00</td>\n",
              "      <td>الراجحي حاط تصاميم كثيره للتطبيق حقه ايش افضل ...</td>\n",
              "      <td>56.0</td>\n",
              "      <td>positive</td>\n",
              "    </tr>\n",
              "    <tr>\n",
              "      <th>2593</th>\n",
              "      <td>من كثر ما تطبيق @alrajhibank مميز حاطين للعميل...</td>\n",
              "      <td>3</td>\n",
              "      <td>5</td>\n",
              "      <td>180</td>\n",
              "      <td>2022-02-21 13:11:20+00:00</td>\n",
              "      <td>من كثر ما تطبيق مميز حاطين للعميل ثيمات عشان م...</td>\n",
              "      <td>139.0</td>\n",
              "      <td>positive</td>\n",
              "    </tr>\n",
              "    <tr>\n",
              "      <th>452</th>\n",
              "      <td>@binsulaiman @faisal_rakan_ سحب مني من بنك الر...</td>\n",
              "      <td>3</td>\n",
              "      <td>15</td>\n",
              "      <td>269</td>\n",
              "      <td>2022-02-20 09:20:50+00:00</td>\n",
              "      <td>سحب مني من بنك الراجحي ومارحع الا جزء بسيط وحس...</td>\n",
              "      <td>228.0</td>\n",
              "      <td>negative</td>\n",
              "    </tr>\n",
              "    <tr>\n",
              "      <th>847</th>\n",
              "      <td>@SAMAcares اقدم لكم شكوى على بنك الراجحي فرع ا...</td>\n",
              "      <td>3</td>\n",
              "      <td>3</td>\n",
              "      <td>206</td>\n",
              "      <td>2022-02-17 15:50:04+00:00</td>\n",
              "      <td>اقدم شكوي بنك الراجحي فرع السليمانيه اقفلت حسا...</td>\n",
              "      <td>173.0</td>\n",
              "      <td>negative</td>\n",
              "    </tr>\n",
              "  </tbody>\n",
              "</table>\n",
              "</div>\n",
              "      <button class=\"colab-df-convert\" onclick=\"convertToInteractive('df-6f269d7e-b748-423b-9b45-909b3d952ef0')\"\n",
              "              title=\"Convert this dataframe to an interactive table.\"\n",
              "              style=\"display:none;\">\n",
              "        \n",
              "  <svg xmlns=\"http://www.w3.org/2000/svg\" height=\"24px\"viewBox=\"0 0 24 24\"\n",
              "       width=\"24px\">\n",
              "    <path d=\"M0 0h24v24H0V0z\" fill=\"none\"/>\n",
              "    <path d=\"M18.56 5.44l.94 2.06.94-2.06 2.06-.94-2.06-.94-.94-2.06-.94 2.06-2.06.94zm-11 1L8.5 8.5l.94-2.06 2.06-.94-2.06-.94L8.5 2.5l-.94 2.06-2.06.94zm10 10l.94 2.06.94-2.06 2.06-.94-2.06-.94-.94-2.06-.94 2.06-2.06.94z\"/><path d=\"M17.41 7.96l-1.37-1.37c-.4-.4-.92-.59-1.43-.59-.52 0-1.04.2-1.43.59L10.3 9.45l-7.72 7.72c-.78.78-.78 2.05 0 2.83L4 21.41c.39.39.9.59 1.41.59.51 0 1.02-.2 1.41-.59l7.78-7.78 2.81-2.81c.8-.78.8-2.07 0-2.86zM5.41 20L4 18.59l7.72-7.72 1.47 1.35L5.41 20z\"/>\n",
              "  </svg>\n",
              "      </button>\n",
              "      \n",
              "  <style>\n",
              "    .colab-df-container {\n",
              "      display:flex;\n",
              "      flex-wrap:wrap;\n",
              "      gap: 12px;\n",
              "    }\n",
              "\n",
              "    .colab-df-convert {\n",
              "      background-color: #E8F0FE;\n",
              "      border: none;\n",
              "      border-radius: 50%;\n",
              "      cursor: pointer;\n",
              "      display: none;\n",
              "      fill: #1967D2;\n",
              "      height: 32px;\n",
              "      padding: 0 0 0 0;\n",
              "      width: 32px;\n",
              "    }\n",
              "\n",
              "    .colab-df-convert:hover {\n",
              "      background-color: #E2EBFA;\n",
              "      box-shadow: 0px 1px 2px rgba(60, 64, 67, 0.3), 0px 1px 3px 1px rgba(60, 64, 67, 0.15);\n",
              "      fill: #174EA6;\n",
              "    }\n",
              "\n",
              "    [theme=dark] .colab-df-convert {\n",
              "      background-color: #3B4455;\n",
              "      fill: #D2E3FC;\n",
              "    }\n",
              "\n",
              "    [theme=dark] .colab-df-convert:hover {\n",
              "      background-color: #434B5C;\n",
              "      box-shadow: 0px 1px 3px 1px rgba(0, 0, 0, 0.15);\n",
              "      filter: drop-shadow(0px 1px 2px rgba(0, 0, 0, 0.3));\n",
              "      fill: #FFFFFF;\n",
              "    }\n",
              "  </style>\n",
              "\n",
              "      <script>\n",
              "        const buttonEl =\n",
              "          document.querySelector('#df-6f269d7e-b748-423b-9b45-909b3d952ef0 button.colab-df-convert');\n",
              "        buttonEl.style.display =\n",
              "          google.colab.kernel.accessAllowed ? 'block' : 'none';\n",
              "\n",
              "        async function convertToInteractive(key) {\n",
              "          const element = document.querySelector('#df-6f269d7e-b748-423b-9b45-909b3d952ef0');\n",
              "          const dataTable =\n",
              "            await google.colab.kernel.invokeFunction('convertToInteractive',\n",
              "                                                     [key], {});\n",
              "          if (!dataTable) return;\n",
              "\n",
              "          const docLinkHtml = 'Like what you see? Visit the ' +\n",
              "            '<a target=\"_blank\" href=https://colab.research.google.com/notebooks/data_table.ipynb>data table notebook</a>'\n",
              "            + ' to learn more about interactive tables.';\n",
              "          element.innerHTML = '';\n",
              "          dataTable['output_type'] = 'display_data';\n",
              "          await google.colab.output.renderOutput(dataTable, element);\n",
              "          const docLink = document.createElement('div');\n",
              "          docLink.innerHTML = docLinkHtml;\n",
              "          element.appendChild(docLink);\n",
              "        }\n",
              "      </script>\n",
              "    </div>\n",
              "  </div>\n",
              "  "
            ]
          },
          "metadata": {},
          "execution_count": 28
        }
      ]
    },
    {
      "cell_type": "markdown",
      "source": [
        "###Pie chart "
      ],
      "metadata": {
        "id": "_oHIddK1RNi8"
      }
    },
    {
      "cell_type": "code",
      "source": [
        "# negative positive pie chart\n",
        "data_df['Classification'].value_counts().plot(kind='pie', autopct='%1.1f%%')"
      ],
      "metadata": {
        "id": "uM9ay-vTEd2r",
        "colab": {
          "base_uri": "https://localhost:8080/",
          "height": 266
        },
        "outputId": "c229416d-2c33-4ac5-980a-8206a404c5aa"
      },
      "execution_count": null,
      "outputs": [
        {
          "output_type": "execute_result",
          "data": {
            "text/plain": [
              "<matplotlib.axes._subplots.AxesSubplot at 0x7fdd554374d0>"
            ]
          },
          "metadata": {},
          "execution_count": 29
        },
        {
          "output_type": "display_data",
          "data": {
            "text/plain": [
              "<Figure size 432x288 with 1 Axes>"
            ],
            "image/png": "[encoded data removed]"
          },
          "metadata": {}
        }
      ]
    },
    {
      "cell_type": "markdown",
      "source": [
        "###Tweet Length Frequency"
      ],
      "metadata": {
        "id": "Jucvw9TURbkh"
      }
    },
    {
      "cell_type": "code",
      "source": [
        "# tweet length for positive hist\n",
        "\n",
        "#x-axis represent tweet length, y-axis represent the frequency\n",
        "ploting = positive_df['Length'].plot(kind='hist')\n",
        "ploting.set_xlabel('Length')\n",
        "ploting.set_ylabel('Frequency')\n",
        "plt.show()"
      ],
      "metadata": {
        "id": "t1KoNj4CE-Pn",
        "colab": {
          "base_uri": "https://localhost:8080/",
          "height": 279
        },
        "outputId": "d7ca606b-1f74-4934-f631-db90c2a0473d"
      },
      "execution_count": null,
      "outputs": [
        {
          "output_type": "display_data",
          "data": {
            "text/plain": [
              "<Figure size 432x288 with 1 Axes>"
            ],
            "image/png": "[encoded data removed]"
          },
          "metadata": {
            "needs_background": "light"
          }
        }
      ]
    },
    {
      "cell_type": "code",
      "source": [
        "# tweet length for negative hist\n",
        "\n",
        "#x-axis represent tweet length, y-axis represent the frequency\n",
        "ploting = negative_df['Length'].plot(kind='hist')\n",
        "ploting.set_xlabel('Length')\n",
        "ploting.set_ylabel('Frequency')\n",
        "plt.show()"
      ],
      "metadata": {
        "id": "UfVDxT6eFBgr",
        "colab": {
          "base_uri": "https://localhost:8080/",
          "height": 279
        },
        "outputId": "d7bb7963-bb40-48b6-afd6-e7f2ebd6b00f"
      },
      "execution_count": null,
      "outputs": [
        {
          "output_type": "display_data",
          "data": {
            "text/plain": [
              "<Figure size 432x288 with 1 Axes>"
            ],
            "image/png": "[encoded data removed]"
          },
          "metadata": {
            "needs_background": "light"
          }
        }
      ]
    },
    {
      "cell_type": "code",
      "source": [
        "appDf=df[df[\"Cleaned\"].str.contains(\"تطبيق\", na=False) | \n",
        "        df[\"Cleaned\"].str.contains(\"برنامج\", na=False) ]"
      ],
      "metadata": {
        "id": "xflp9LhoPJ5M"
      },
      "execution_count": null,
      "outputs": []
    },
    {
      "cell_type": "code",
      "source": [
        "positive_filter = appDf[appDf['Classification'] == \"positive\"]\n",
        "negative_filter = appDf[appDf['Classification'] == \"negative\"]\n",
        "\n",
        "frames_filter = [positive_filter, negative_filter]\n",
        "appDf_filter = pd.concat(frames_filter)"
      ],
      "metadata": {
        "id": "DZRuAXbPWGGL"
      },
      "execution_count": null,
      "outputs": []
    },
    {
      "cell_type": "code",
      "source": [
        "appDf_filter['Classification'].value_counts().plot(kind='pie', autopct='%1.1f%%')"
      ],
      "metadata": {
        "id": "zs0Yv8c3RPhK",
        "colab": {
          "base_uri": "https://localhost:8080/",
          "height": 266
        },
        "outputId": "a9fce510-bcfa-4cb4-a8cb-980e4d2a6e29"
      },
      "execution_count": null,
      "outputs": [
        {
          "output_type": "execute_result",
          "data": {
            "text/plain": [
              "<matplotlib.axes._subplots.AxesSubplot at 0x7fdd55a15c90>"
            ]
          },
          "metadata": {},
          "execution_count": 34
        },
        {
          "output_type": "display_data",
          "data": {
            "text/plain": [
              "<Figure size 432x288 with 1 Axes>"
            ],
            "image/png": "[encoded data removed]"
          },
          "metadata": {}
        }
      ]
    },
    {
      "cell_type": "code",
      "source": [
        "len(positive_df)"
      ],
      "metadata": {
        "id": "Eov82bjFRjVa",
        "colab": {
          "base_uri": "https://localhost:8080/"
        },
        "outputId": "ffe85192-9462-4b6f-e03c-d8ec1354feab"
      },
      "execution_count": null,
      "outputs": [
        {
          "output_type": "execute_result",
          "data": {
            "text/plain": [
              "268"
            ]
          },
          "metadata": {},
          "execution_count": 35
        }
      ]
    },
    {
      "cell_type": "code",
      "source": [
        "len(negative_df)"
      ],
      "metadata": {
        "id": "y-1FA0w1Sr3i",
        "colab": {
          "base_uri": "https://localhost:8080/"
        },
        "outputId": "83c51b40-5f38-4d8a-d7b0-4c1bddc63413"
      },
      "execution_count": null,
      "outputs": [
        {
          "output_type": "execute_result",
          "data": {
            "text/plain": [
              "485"
            ]
          },
          "metadata": {},
          "execution_count": 36
        }
      ]
    },
    {
      "cell_type": "code",
      "source": [
        "data_df['Created'] = data_df['Created At'].astype('datetime64[ns]')\n",
        "pos_dates = data_df[data_df[\"Classification\"] == \"positive\"]\n",
        "neg_dates = data_df[data_df[\"Classification\"] == \"negative\"]"
      ],
      "metadata": {
        "id": "Xeb798xOgz2Z"
      },
      "execution_count": null,
      "outputs": []
    },
    {
      "cell_type": "code",
      "source": [
        "neg_dates[\"Created\"].groupby([data_df[\"Created\"].dt.year, \n",
        "                              data_df[\"Created\"].dt.month, \n",
        "                              data_df[\"Created\"].dt.day]).count().plot(kind=\"bar\", title=\"Negative Tweets Created Date\", xlabel= \"Date\",ylabel = \"Count\")"
      ],
      "metadata": {
        "id": "NJinfG67jzJo",
        "colab": {
          "base_uri": "https://localhost:8080/",
          "height": 368
        },
        "outputId": "026f369f-6a2b-4d17-bec5-65af1f28741e"
      },
      "execution_count": null,
      "outputs": [
        {
          "output_type": "execute_result",
          "data": {
            "text/plain": [
              "<matplotlib.axes._subplots.AxesSubplot at 0x7fdd55a2a290>"
            ]
          },
          "metadata": {},
          "execution_count": 38
        },
        {
          "output_type": "display_data",
          "data": {
            "text/plain": [
              "<Figure size 432x288 with 1 Axes>"
            ],
            "image/png": "[encoded data removed]"
          },
          "metadata": {
            "needs_background": "light"
          }
        }
      ]
    },
    {
      "cell_type": "code",
      "source": [
        "pos_dates[\"Created\"].groupby([data_df[\"Created\"].dt.year, \n",
        "                              data_df[\"Created\"].dt.month, \n",
        "                              data_df[\"Created\"].dt.day]).count().plot(kind=\"bar\", title=\"Positive Tweets Created Date\", xlabel= \"Date\",ylabel = \"Count\")"
      ],
      "metadata": {
        "id": "sLtnWR1BgfAP",
        "colab": {
          "base_uri": "https://localhost:8080/",
          "height": 368
        },
        "outputId": "41b89508-0ea5-4aa0-e6a8-6698da107169"
      },
      "execution_count": null,
      "outputs": [
        {
          "output_type": "execute_result",
          "data": {
            "text/plain": [
              "<matplotlib.axes._subplots.AxesSubplot at 0x7fdd55e59390>"
            ]
          },
          "metadata": {},
          "execution_count": 39
        },
        {
          "output_type": "display_data",
          "data": {
            "text/plain": [
              "<Figure size 432x288 with 1 Axes>"
            ],
            "image/png": "[encoded data removed]"
          },
          "metadata": {
            "needs_background": "light"
          }
        }
      ]
    },
    {
      "cell_type": "markdown",
      "source": [
        "## Predictive Analysis"
      ],
      "metadata": {
        "id": "-9q4hw_lFJLO"
      }
    },
    {
      "cell_type": "code",
      "source": [
        "len(positive_df)"
      ],
      "metadata": {
        "id": "_mx86uobr9Kj",
        "colab": {
          "base_uri": "https://localhost:8080/"
        },
        "outputId": "65ab5691-5361-46b0-fea5-4cc60fcb2398"
      },
      "execution_count": null,
      "outputs": [
        {
          "output_type": "execute_result",
          "data": {
            "text/plain": [
              "268"
            ]
          },
          "metadata": {},
          "execution_count": 43
        }
      ]
    },
    {
      "cell_type": "code",
      "source": [
        "len(negative_df)"
      ],
      "metadata": {
        "id": "oIFfTtLXSXWZ",
        "colab": {
          "base_uri": "https://localhost:8080/"
        },
        "outputId": "52eebc97-15ba-4325-9987-19fef9938e4d"
      },
      "execution_count": null,
      "outputs": [
        {
          "output_type": "execute_result",
          "data": {
            "text/plain": [
              "485"
            ]
          },
          "metadata": {},
          "execution_count": 44
        }
      ]
    },
    {
      "cell_type": "code",
      "source": [
        "#To avoid unbalanced positive and negative should be equal\n",
        "negative_df = negative_df.head(len(positive_df))\n",
        "\n",
        "#merging positive and negative dataframes, excluding neutral\n",
        "frames = [negative_df, positive_df]\n",
        "data_df = pd.concat(frames)"
      ],
      "metadata": {
        "id": "SpcVd_dcSf17"
      },
      "execution_count": null,
      "outputs": []
    },
    {
      "cell_type": "code",
      "source": [
        "#reset index \n",
        "data_df.reset_index(drop= True, inplace = True)"
      ],
      "metadata": {
        "id": "WrTL5PxlT_kA"
      },
      "execution_count": null,
      "outputs": []
    },
    {
      "cell_type": "code",
      "source": [
        "data_df"
      ],
      "metadata": {
        "id": "45p-wmvaVdB3",
        "colab": {
          "base_uri": "https://localhost:8080/",
          "height": 424
        },
        "outputId": "7d1e06ff-4e46-43cd-d8d8-09eecaad6411"
      },
      "execution_count": null,
      "outputs": [
        {
          "output_type": "execute_result",
          "data": {
            "text/plain": [
              "                                                 Tweet  Retweets  Likes  \\\n",
              "0    @roro1992161 والله سحبها البنك اليوم ماستفدنا ...         0      0   \n",
              "1            والله افشل بنك ممكن تتعامل معه هو الراجحي         0      0   \n",
              "2    @urpay_sa السلام وعليكم حولت مبلغ من بنك الراج...         0      0   \n",
              "3    @SAMAcares السلام عليكم انا قدمت طلب مديونية ع...         0      0   \n",
              "4     الله يلعن الساعه الي اتعاملت فيها مع بنك الراجحي         1      4   \n",
              "..                                                 ...       ...    ...   \n",
              "531  @AlRajhiCapital @Baber_35 ما شاء الله ، اجل بن...         0      0   \n",
              "532  @AlRajhiBankCare @AlRajhiCapital شكرا لردكم ال...         0      0   \n",
              "533  @AlRajhiBankCare @AlRajhiCapital @S3UD_ALAMRI ...         0      0   \n",
              "534  @AlRajhiBankCare @AlRajhiCapital ممتازين تم ال...         0      0   \n",
              "535          @AlRajhiCapital شكرا لكم على سرعة التجاوب         0      0   \n",
              "\n",
              "     Length                 Created At  \\\n",
              "0        76  2022-02-23 00:52:08+00:00   \n",
              "1        41  2022-02-22 19:28:13+00:00   \n",
              "2       159  2022-02-22 14:13:37+00:00   \n",
              "3       108  2022-02-22 09:44:04+00:00   \n",
              "4        48  2022-02-21 20:08:51+00:00   \n",
              "..      ...                        ...   \n",
              "531     104  2022-02-28 11:29:12+00:00   \n",
              "532     128  2022-02-26 16:45:58+00:00   \n",
              "533     146  2022-02-26 16:43:16+00:00   \n",
              "534      66  2022-02-25 19:53:31+00:00   \n",
              "535      41  2022-02-24 12:56:55+00:00   \n",
              "\n",
              "                                               Cleaned  Cleaned length  \\\n",
              "0    والله سحبها البنك اليوم ماستفدنا حسبي الله بنك...            54.0   \n",
              "1               والله افشل بنك ممكن تتعامل معه الراجحي            38.0   \n",
              "2    السلام وعليكم حولت مبلغ من بنك الراجحي وتعلق ا...           143.0   \n",
              "3    السلام عليكم انا قدمت طلب مديونيه بنك الراجحي ...            93.0   \n",
              "4             الله يلعن الساعه الي اتعاملت بنك الراجحي            40.0   \n",
              "..                                                 ...             ...   \n",
              "531  ما شاء الله  اجل بنك الاهلي صالخنا صلخ  ٣ ريال...            67.0   \n",
              "532  شكرا لردكم الجميل   نسعد بالتطور الدائم والمست...            77.0   \n",
              "533  من افضل الخدمات عندكم بس شي لقينه منكم حلمي ال...            93.0   \n",
              "534                     ممتازين تم التواصل معي وافادتي            31.0   \n",
              "535                                  شكرا سرعه التجاوب            17.0   \n",
              "\n",
              "    Classification  \n",
              "0         negative  \n",
              "1         negative  \n",
              "2         negative  \n",
              "3         negative  \n",
              "4         negative  \n",
              "..             ...  \n",
              "531       positive  \n",
              "532       positive  \n",
              "533       positive  \n",
              "534       positive  \n",
              "535       positive  \n",
              "\n",
              "[536 rows x 8 columns]"
            ],
            "text/html": [
              "\n",
              "  <div id=\"df-0b44741e-893d-4448-b3d4-f3e31750bbfd\">\n",
              "    <div class=\"colab-df-container\">\n",
              "      <div>\n",
              "<style scoped>\n",
              "    .dataframe tbody tr th:only-of-type {\n",
              "        vertical-align: middle;\n",
              "    }\n",
              "\n",
              "    .dataframe tbody tr th {\n",
              "        vertical-align: top;\n",
              "    }\n",
              "\n",
              "    .dataframe thead th {\n",
              "        text-align: right;\n",
              "    }\n",
              "</style>\n",
              "<table border=\"1\" class=\"dataframe\">\n",
              "  <thead>\n",
              "    <tr style=\"text-align: right;\">\n",
              "      <th></th>\n",
              "      <th>Tweet</th>\n",
              "      <th>Retweets</th>\n",
              "      <th>Likes</th>\n",
              "      <th>Length</th>\n",
              "      <th>Created At</th>\n",
              "      <th>Cleaned</th>\n",
              "      <th>Cleaned length</th>\n",
              "      <th>Classification</th>\n",
              "    </tr>\n",
              "  </thead>\n",
              "  <tbody>\n",
              "    <tr>\n",
              "      <th>0</th>\n",
              "      <td>@roro1992161 والله سحبها البنك اليوم ماستفدنا ...</td>\n",
              "      <td>0</td>\n",
              "      <td>0</td>\n",
              "      <td>76</td>\n",
              "      <td>2022-02-23 00:52:08+00:00</td>\n",
              "      <td>والله سحبها البنك اليوم ماستفدنا حسبي الله بنك...</td>\n",
              "      <td>54.0</td>\n",
              "      <td>negative</td>\n",
              "    </tr>\n",
              "    <tr>\n",
              "      <th>1</th>\n",
              "      <td>والله افشل بنك ممكن تتعامل معه هو الراجحي</td>\n",
              "      <td>0</td>\n",
              "      <td>0</td>\n",
              "      <td>41</td>\n",
              "      <td>2022-02-22 19:28:13+00:00</td>\n",
              "      <td>والله افشل بنك ممكن تتعامل معه الراجحي</td>\n",
              "      <td>38.0</td>\n",
              "      <td>negative</td>\n",
              "    </tr>\n",
              "    <tr>\n",
              "      <th>2</th>\n",
              "      <td>@urpay_sa السلام وعليكم حولت مبلغ من بنك الراج...</td>\n",
              "      <td>0</td>\n",
              "      <td>0</td>\n",
              "      <td>159</td>\n",
              "      <td>2022-02-22 14:13:37+00:00</td>\n",
              "      <td>السلام وعليكم حولت مبلغ من بنك الراجحي وتعلق ا...</td>\n",
              "      <td>143.0</td>\n",
              "      <td>negative</td>\n",
              "    </tr>\n",
              "    <tr>\n",
              "      <th>3</th>\n",
              "      <td>@SAMAcares السلام عليكم انا قدمت طلب مديونية ع...</td>\n",
              "      <td>0</td>\n",
              "      <td>0</td>\n",
              "      <td>108</td>\n",
              "      <td>2022-02-22 09:44:04+00:00</td>\n",
              "      <td>السلام عليكم انا قدمت طلب مديونيه بنك الراجحي ...</td>\n",
              "      <td>93.0</td>\n",
              "      <td>negative</td>\n",
              "    </tr>\n",
              "    <tr>\n",
              "      <th>4</th>\n",
              "      <td>الله يلعن الساعه الي اتعاملت فيها مع بنك الراجحي</td>\n",
              "      <td>1</td>\n",
              "      <td>4</td>\n",
              "      <td>48</td>\n",
              "      <td>2022-02-21 20:08:51+00:00</td>\n",
              "      <td>الله يلعن الساعه الي اتعاملت بنك الراجحي</td>\n",
              "      <td>40.0</td>\n",
              "      <td>negative</td>\n",
              "    </tr>\n",
              "    <tr>\n",
              "      <th>...</th>\n",
              "      <td>...</td>\n",
              "      <td>...</td>\n",
              "      <td>...</td>\n",
              "      <td>...</td>\n",
              "      <td>...</td>\n",
              "      <td>...</td>\n",
              "      <td>...</td>\n",
              "      <td>...</td>\n",
              "    </tr>\n",
              "    <tr>\n",
              "      <th>531</th>\n",
              "      <td>@AlRajhiCapital @Baber_35 ما شاء الله ، اجل بن...</td>\n",
              "      <td>0</td>\n",
              "      <td>0</td>\n",
              "      <td>104</td>\n",
              "      <td>2022-02-28 11:29:12+00:00</td>\n",
              "      <td>ما شاء الله  اجل بنك الاهلي صالخنا صلخ  ٣ ريال...</td>\n",
              "      <td>67.0</td>\n",
              "      <td>positive</td>\n",
              "    </tr>\n",
              "    <tr>\n",
              "      <th>532</th>\n",
              "      <td>@AlRajhiBankCare @AlRajhiCapital شكرا لردكم ال...</td>\n",
              "      <td>0</td>\n",
              "      <td>0</td>\n",
              "      <td>128</td>\n",
              "      <td>2022-02-26 16:45:58+00:00</td>\n",
              "      <td>شكرا لردكم الجميل   نسعد بالتطور الدائم والمست...</td>\n",
              "      <td>77.0</td>\n",
              "      <td>positive</td>\n",
              "    </tr>\n",
              "    <tr>\n",
              "      <th>533</th>\n",
              "      <td>@AlRajhiBankCare @AlRajhiCapital @S3UD_ALAMRI ...</td>\n",
              "      <td>0</td>\n",
              "      <td>0</td>\n",
              "      <td>146</td>\n",
              "      <td>2022-02-26 16:43:16+00:00</td>\n",
              "      <td>من افضل الخدمات عندكم بس شي لقينه منكم حلمي ال...</td>\n",
              "      <td>93.0</td>\n",
              "      <td>positive</td>\n",
              "    </tr>\n",
              "    <tr>\n",
              "      <th>534</th>\n",
              "      <td>@AlRajhiBankCare @AlRajhiCapital ممتازين تم ال...</td>\n",
              "      <td>0</td>\n",
              "      <td>0</td>\n",
              "      <td>66</td>\n",
              "      <td>2022-02-25 19:53:31+00:00</td>\n",
              "      <td>ممتازين تم التواصل معي وافادتي</td>\n",
              "      <td>31.0</td>\n",
              "      <td>positive</td>\n",
              "    </tr>\n",
              "    <tr>\n",
              "      <th>535</th>\n",
              "      <td>@AlRajhiCapital شكرا لكم على سرعة التجاوب</td>\n",
              "      <td>0</td>\n",
              "      <td>0</td>\n",
              "      <td>41</td>\n",
              "      <td>2022-02-24 12:56:55+00:00</td>\n",
              "      <td>شكرا سرعه التجاوب</td>\n",
              "      <td>17.0</td>\n",
              "      <td>positive</td>\n",
              "    </tr>\n",
              "  </tbody>\n",
              "</table>\n",
              "<p>536 rows × 8 columns</p>\n",
              "</div>\n",
              "      <button class=\"colab-df-convert\" onclick=\"convertToInteractive('df-0b44741e-893d-4448-b3d4-f3e31750bbfd')\"\n",
              "              title=\"Convert this dataframe to an interactive table.\"\n",
              "              style=\"display:none;\">\n",
              "        \n",
              "  <svg xmlns=\"http://www.w3.org/2000/svg\" height=\"24px\"viewBox=\"0 0 24 24\"\n",
              "       width=\"24px\">\n",
              "    <path d=\"M0 0h24v24H0V0z\" fill=\"none\"/>\n",
              "    <path d=\"M18.56 5.44l.94 2.06.94-2.06 2.06-.94-2.06-.94-.94-2.06-.94 2.06-2.06.94zm-11 1L8.5 8.5l.94-2.06 2.06-.94-2.06-.94L8.5 2.5l-.94 2.06-2.06.94zm10 10l.94 2.06.94-2.06 2.06-.94-2.06-.94-.94-2.06-.94 2.06-2.06.94z\"/><path d=\"M17.41 7.96l-1.37-1.37c-.4-.4-.92-.59-1.43-.59-.52 0-1.04.2-1.43.59L10.3 9.45l-7.72 7.72c-.78.78-.78 2.05 0 2.83L4 21.41c.39.39.9.59 1.41.59.51 0 1.02-.2 1.41-.59l7.78-7.78 2.81-2.81c.8-.78.8-2.07 0-2.86zM5.41 20L4 18.59l7.72-7.72 1.47 1.35L5.41 20z\"/>\n",
              "  </svg>\n",
              "      </button>\n",
              "      \n",
              "  <style>\n",
              "    .colab-df-container {\n",
              "      display:flex;\n",
              "      flex-wrap:wrap;\n",
              "      gap: 12px;\n",
              "    }\n",
              "\n",
              "    .colab-df-convert {\n",
              "      background-color: #E8F0FE;\n",
              "      border: none;\n",
              "      border-radius: 50%;\n",
              "      cursor: pointer;\n",
              "      display: none;\n",
              "      fill: #1967D2;\n",
              "      height: 32px;\n",
              "      padding: 0 0 0 0;\n",
              "      width: 32px;\n",
              "    }\n",
              "\n",
              "    .colab-df-convert:hover {\n",
              "      background-color: #E2EBFA;\n",
              "      box-shadow: 0px 1px 2px rgba(60, 64, 67, 0.3), 0px 1px 3px 1px rgba(60, 64, 67, 0.15);\n",
              "      fill: #174EA6;\n",
              "    }\n",
              "\n",
              "    [theme=dark] .colab-df-convert {\n",
              "      background-color: #3B4455;\n",
              "      fill: #D2E3FC;\n",
              "    }\n",
              "\n",
              "    [theme=dark] .colab-df-convert:hover {\n",
              "      background-color: #434B5C;\n",
              "      box-shadow: 0px 1px 3px 1px rgba(0, 0, 0, 0.15);\n",
              "      filter: drop-shadow(0px 1px 2px rgba(0, 0, 0, 0.3));\n",
              "      fill: #FFFFFF;\n",
              "    }\n",
              "  </style>\n",
              "\n",
              "      <script>\n",
              "        const buttonEl =\n",
              "          document.querySelector('#df-0b44741e-893d-4448-b3d4-f3e31750bbfd button.colab-df-convert');\n",
              "        buttonEl.style.display =\n",
              "          google.colab.kernel.accessAllowed ? 'block' : 'none';\n",
              "\n",
              "        async function convertToInteractive(key) {\n",
              "          const element = document.querySelector('#df-0b44741e-893d-4448-b3d4-f3e31750bbfd');\n",
              "          const dataTable =\n",
              "            await google.colab.kernel.invokeFunction('convertToInteractive',\n",
              "                                                     [key], {});\n",
              "          if (!dataTable) return;\n",
              "\n",
              "          const docLinkHtml = 'Like what you see? Visit the ' +\n",
              "            '<a target=\"_blank\" href=https://colab.research.google.com/notebooks/data_table.ipynb>data table notebook</a>'\n",
              "            + ' to learn more about interactive tables.';\n",
              "          element.innerHTML = '';\n",
              "          dataTable['output_type'] = 'display_data';\n",
              "          await google.colab.output.renderOutput(dataTable, element);\n",
              "          const docLink = document.createElement('div');\n",
              "          docLink.innerHTML = docLinkHtml;\n",
              "          element.appendChild(docLink);\n",
              "        }\n",
              "      </script>\n",
              "    </div>\n",
              "  </div>\n",
              "  "
            ]
          },
          "metadata": {},
          "execution_count": 47
        }
      ]
    },
    {
      "cell_type": "code",
      "source": [
        "len(data_df)"
      ],
      "metadata": {
        "id": "F7he8U8j9vFc",
        "colab": {
          "base_uri": "https://localhost:8080/"
        },
        "outputId": "f03abcac-f816-44ef-df8f-21032ea03ba2"
      },
      "execution_count": null,
      "outputs": [
        {
          "output_type": "execute_result",
          "data": {
            "text/plain": [
              "536"
            ]
          },
          "metadata": {},
          "execution_count": 48
        }
      ]
    },
    {
      "cell_type": "code",
      "source": [
        "#change values to numeric\n",
        "data_df['Classification'] = data_df['Classification'].map({'positive': 1, 'negative': 0}) "
      ],
      "metadata": {
        "id": "EJMaoMGwGYLT"
      },
      "execution_count": null,
      "outputs": []
    },
    {
      "cell_type": "code",
      "source": [
        "data_df"
      ],
      "metadata": {
        "id": "vlfBpwk0RXsh",
        "colab": {
          "base_uri": "https://localhost:8080/",
          "height": 424
        },
        "outputId": "6c0399ba-6814-4b03-e9a3-394b8212da8b"
      },
      "execution_count": null,
      "outputs": [
        {
          "output_type": "execute_result",
          "data": {
            "text/plain": [
              "                                                 Tweet  Retweets  Likes  \\\n",
              "0    @roro1992161 والله سحبها البنك اليوم ماستفدنا ...         0      0   \n",
              "1            والله افشل بنك ممكن تتعامل معه هو الراجحي         0      0   \n",
              "2    @urpay_sa السلام وعليكم حولت مبلغ من بنك الراج...         0      0   \n",
              "3    @SAMAcares السلام عليكم انا قدمت طلب مديونية ع...         0      0   \n",
              "4     الله يلعن الساعه الي اتعاملت فيها مع بنك الراجحي         1      4   \n",
              "..                                                 ...       ...    ...   \n",
              "531  @AlRajhiCapital @Baber_35 ما شاء الله ، اجل بن...         0      0   \n",
              "532  @AlRajhiBankCare @AlRajhiCapital شكرا لردكم ال...         0      0   \n",
              "533  @AlRajhiBankCare @AlRajhiCapital @S3UD_ALAMRI ...         0      0   \n",
              "534  @AlRajhiBankCare @AlRajhiCapital ممتازين تم ال...         0      0   \n",
              "535          @AlRajhiCapital شكرا لكم على سرعة التجاوب         0      0   \n",
              "\n",
              "     Length                 Created At  \\\n",
              "0        76  2022-02-23 00:52:08+00:00   \n",
              "1        41  2022-02-22 19:28:13+00:00   \n",
              "2       159  2022-02-22 14:13:37+00:00   \n",
              "3       108  2022-02-22 09:44:04+00:00   \n",
              "4        48  2022-02-21 20:08:51+00:00   \n",
              "..      ...                        ...   \n",
              "531     104  2022-02-28 11:29:12+00:00   \n",
              "532     128  2022-02-26 16:45:58+00:00   \n",
              "533     146  2022-02-26 16:43:16+00:00   \n",
              "534      66  2022-02-25 19:53:31+00:00   \n",
              "535      41  2022-02-24 12:56:55+00:00   \n",
              "\n",
              "                                               Cleaned  Cleaned length  \\\n",
              "0    والله سحبها البنك اليوم ماستفدنا حسبي الله بنك...            54.0   \n",
              "1               والله افشل بنك ممكن تتعامل معه الراجحي            38.0   \n",
              "2    السلام وعليكم حولت مبلغ من بنك الراجحي وتعلق ا...           143.0   \n",
              "3    السلام عليكم انا قدمت طلب مديونيه بنك الراجحي ...            93.0   \n",
              "4             الله يلعن الساعه الي اتعاملت بنك الراجحي            40.0   \n",
              "..                                                 ...             ...   \n",
              "531  ما شاء الله  اجل بنك الاهلي صالخنا صلخ  ٣ ريال...            67.0   \n",
              "532  شكرا لردكم الجميل   نسعد بالتطور الدائم والمست...            77.0   \n",
              "533  من افضل الخدمات عندكم بس شي لقينه منكم حلمي ال...            93.0   \n",
              "534                     ممتازين تم التواصل معي وافادتي            31.0   \n",
              "535                                  شكرا سرعه التجاوب            17.0   \n",
              "\n",
              "     Classification  \n",
              "0                 0  \n",
              "1                 0  \n",
              "2                 0  \n",
              "3                 0  \n",
              "4                 0  \n",
              "..              ...  \n",
              "531               1  \n",
              "532               1  \n",
              "533               1  \n",
              "534               1  \n",
              "535               1  \n",
              "\n",
              "[536 rows x 8 columns]"
            ],
            "text/html": [
              "\n",
              "  <div id=\"df-a5b05efc-8a8c-4653-a5b2-8a50848e0dce\">\n",
              "    <div class=\"colab-df-container\">\n",
              "      <div>\n",
              "<style scoped>\n",
              "    .dataframe tbody tr th:only-of-type {\n",
              "        vertical-align: middle;\n",
              "    }\n",
              "\n",
              "    .dataframe tbody tr th {\n",
              "        vertical-align: top;\n",
              "    }\n",
              "\n",
              "    .dataframe thead th {\n",
              "        text-align: right;\n",
              "    }\n",
              "</style>\n",
              "<table border=\"1\" class=\"dataframe\">\n",
              "  <thead>\n",
              "    <tr style=\"text-align: right;\">\n",
              "      <th></th>\n",
              "      <th>Tweet</th>\n",
              "      <th>Retweets</th>\n",
              "      <th>Likes</th>\n",
              "      <th>Length</th>\n",
              "      <th>Created At</th>\n",
              "      <th>Cleaned</th>\n",
              "      <th>Cleaned length</th>\n",
              "      <th>Classification</th>\n",
              "    </tr>\n",
              "  </thead>\n",
              "  <tbody>\n",
              "    <tr>\n",
              "      <th>0</th>\n",
              "      <td>@roro1992161 والله سحبها البنك اليوم ماستفدنا ...</td>\n",
              "      <td>0</td>\n",
              "      <td>0</td>\n",
              "      <td>76</td>\n",
              "      <td>2022-02-23 00:52:08+00:00</td>\n",
              "      <td>والله سحبها البنك اليوم ماستفدنا حسبي الله بنك...</td>\n",
              "      <td>54.0</td>\n",
              "      <td>0</td>\n",
              "    </tr>\n",
              "    <tr>\n",
              "      <th>1</th>\n",
              "      <td>والله افشل بنك ممكن تتعامل معه هو الراجحي</td>\n",
              "      <td>0</td>\n",
              "      <td>0</td>\n",
              "      <td>41</td>\n",
              "      <td>2022-02-22 19:28:13+00:00</td>\n",
              "      <td>والله افشل بنك ممكن تتعامل معه الراجحي</td>\n",
              "      <td>38.0</td>\n",
              "      <td>0</td>\n",
              "    </tr>\n",
              "    <tr>\n",
              "      <th>2</th>\n",
              "      <td>@urpay_sa السلام وعليكم حولت مبلغ من بنك الراج...</td>\n",
              "      <td>0</td>\n",
              "      <td>0</td>\n",
              "      <td>159</td>\n",
              "      <td>2022-02-22 14:13:37+00:00</td>\n",
              "      <td>السلام وعليكم حولت مبلغ من بنك الراجحي وتعلق ا...</td>\n",
              "      <td>143.0</td>\n",
              "      <td>0</td>\n",
              "    </tr>\n",
              "    <tr>\n",
              "      <th>3</th>\n",
              "      <td>@SAMAcares السلام عليكم انا قدمت طلب مديونية ع...</td>\n",
              "      <td>0</td>\n",
              "      <td>0</td>\n",
              "      <td>108</td>\n",
              "      <td>2022-02-22 09:44:04+00:00</td>\n",
              "      <td>السلام عليكم انا قدمت طلب مديونيه بنك الراجحي ...</td>\n",
              "      <td>93.0</td>\n",
              "      <td>0</td>\n",
              "    </tr>\n",
              "    <tr>\n",
              "      <th>4</th>\n",
              "      <td>الله يلعن الساعه الي اتعاملت فيها مع بنك الراجحي</td>\n",
              "      <td>1</td>\n",
              "      <td>4</td>\n",
              "      <td>48</td>\n",
              "      <td>2022-02-21 20:08:51+00:00</td>\n",
              "      <td>الله يلعن الساعه الي اتعاملت بنك الراجحي</td>\n",
              "      <td>40.0</td>\n",
              "      <td>0</td>\n",
              "    </tr>\n",
              "    <tr>\n",
              "      <th>...</th>\n",
              "      <td>...</td>\n",
              "      <td>...</td>\n",
              "      <td>...</td>\n",
              "      <td>...</td>\n",
              "      <td>...</td>\n",
              "      <td>...</td>\n",
              "      <td>...</td>\n",
              "      <td>...</td>\n",
              "    </tr>\n",
              "    <tr>\n",
              "      <th>531</th>\n",
              "      <td>@AlRajhiCapital @Baber_35 ما شاء الله ، اجل بن...</td>\n",
              "      <td>0</td>\n",
              "      <td>0</td>\n",
              "      <td>104</td>\n",
              "      <td>2022-02-28 11:29:12+00:00</td>\n",
              "      <td>ما شاء الله  اجل بنك الاهلي صالخنا صلخ  ٣ ريال...</td>\n",
              "      <td>67.0</td>\n",
              "      <td>1</td>\n",
              "    </tr>\n",
              "    <tr>\n",
              "      <th>532</th>\n",
              "      <td>@AlRajhiBankCare @AlRajhiCapital شكرا لردكم ال...</td>\n",
              "      <td>0</td>\n",
              "      <td>0</td>\n",
              "      <td>128</td>\n",
              "      <td>2022-02-26 16:45:58+00:00</td>\n",
              "      <td>شكرا لردكم الجميل   نسعد بالتطور الدائم والمست...</td>\n",
              "      <td>77.0</td>\n",
              "      <td>1</td>\n",
              "    </tr>\n",
              "    <tr>\n",
              "      <th>533</th>\n",
              "      <td>@AlRajhiBankCare @AlRajhiCapital @S3UD_ALAMRI ...</td>\n",
              "      <td>0</td>\n",
              "      <td>0</td>\n",
              "      <td>146</td>\n",
              "      <td>2022-02-26 16:43:16+00:00</td>\n",
              "      <td>من افضل الخدمات عندكم بس شي لقينه منكم حلمي ال...</td>\n",
              "      <td>93.0</td>\n",
              "      <td>1</td>\n",
              "    </tr>\n",
              "    <tr>\n",
              "      <th>534</th>\n",
              "      <td>@AlRajhiBankCare @AlRajhiCapital ممتازين تم ال...</td>\n",
              "      <td>0</td>\n",
              "      <td>0</td>\n",
              "      <td>66</td>\n",
              "      <td>2022-02-25 19:53:31+00:00</td>\n",
              "      <td>ممتازين تم التواصل معي وافادتي</td>\n",
              "      <td>31.0</td>\n",
              "      <td>1</td>\n",
              "    </tr>\n",
              "    <tr>\n",
              "      <th>535</th>\n",
              "      <td>@AlRajhiCapital شكرا لكم على سرعة التجاوب</td>\n",
              "      <td>0</td>\n",
              "      <td>0</td>\n",
              "      <td>41</td>\n",
              "      <td>2022-02-24 12:56:55+00:00</td>\n",
              "      <td>شكرا سرعه التجاوب</td>\n",
              "      <td>17.0</td>\n",
              "      <td>1</td>\n",
              "    </tr>\n",
              "  </tbody>\n",
              "</table>\n",
              "<p>536 rows × 8 columns</p>\n",
              "</div>\n",
              "      <button class=\"colab-df-convert\" onclick=\"convertToInteractive('df-a5b05efc-8a8c-4653-a5b2-8a50848e0dce')\"\n",
              "              title=\"Convert this dataframe to an interactive table.\"\n",
              "              style=\"display:none;\">\n",
              "        \n",
              "  <svg xmlns=\"http://www.w3.org/2000/svg\" height=\"24px\"viewBox=\"0 0 24 24\"\n",
              "       width=\"24px\">\n",
              "    <path d=\"M0 0h24v24H0V0z\" fill=\"none\"/>\n",
              "    <path d=\"M18.56 5.44l.94 2.06.94-2.06 2.06-.94-2.06-.94-.94-2.06-.94 2.06-2.06.94zm-11 1L8.5 8.5l.94-2.06 2.06-.94-2.06-.94L8.5 2.5l-.94 2.06-2.06.94zm10 10l.94 2.06.94-2.06 2.06-.94-2.06-.94-.94-2.06-.94 2.06-2.06.94z\"/><path d=\"M17.41 7.96l-1.37-1.37c-.4-.4-.92-.59-1.43-.59-.52 0-1.04.2-1.43.59L10.3 9.45l-7.72 7.72c-.78.78-.78 2.05 0 2.83L4 21.41c.39.39.9.59 1.41.59.51 0 1.02-.2 1.41-.59l7.78-7.78 2.81-2.81c.8-.78.8-2.07 0-2.86zM5.41 20L4 18.59l7.72-7.72 1.47 1.35L5.41 20z\"/>\n",
              "  </svg>\n",
              "      </button>\n",
              "      \n",
              "  <style>\n",
              "    .colab-df-container {\n",
              "      display:flex;\n",
              "      flex-wrap:wrap;\n",
              "      gap: 12px;\n",
              "    }\n",
              "\n",
              "    .colab-df-convert {\n",
              "      background-color: #E8F0FE;\n",
              "      border: none;\n",
              "      border-radius: 50%;\n",
              "      cursor: pointer;\n",
              "      display: none;\n",
              "      fill: #1967D2;\n",
              "      height: 32px;\n",
              "      padding: 0 0 0 0;\n",
              "      width: 32px;\n",
              "    }\n",
              "\n",
              "    .colab-df-convert:hover {\n",
              "      background-color: #E2EBFA;\n",
              "      box-shadow: 0px 1px 2px rgba(60, 64, 67, 0.3), 0px 1px 3px 1px rgba(60, 64, 67, 0.15);\n",
              "      fill: #174EA6;\n",
              "    }\n",
              "\n",
              "    [theme=dark] .colab-df-convert {\n",
              "      background-color: #3B4455;\n",
              "      fill: #D2E3FC;\n",
              "    }\n",
              "\n",
              "    [theme=dark] .colab-df-convert:hover {\n",
              "      background-color: #434B5C;\n",
              "      box-shadow: 0px 1px 3px 1px rgba(0, 0, 0, 0.15);\n",
              "      filter: drop-shadow(0px 1px 2px rgba(0, 0, 0, 0.3));\n",
              "      fill: #FFFFFF;\n",
              "    }\n",
              "  </style>\n",
              "\n",
              "      <script>\n",
              "        const buttonEl =\n",
              "          document.querySelector('#df-a5b05efc-8a8c-4653-a5b2-8a50848e0dce button.colab-df-convert');\n",
              "        buttonEl.style.display =\n",
              "          google.colab.kernel.accessAllowed ? 'block' : 'none';\n",
              "\n",
              "        async function convertToInteractive(key) {\n",
              "          const element = document.querySelector('#df-a5b05efc-8a8c-4653-a5b2-8a50848e0dce');\n",
              "          const dataTable =\n",
              "            await google.colab.kernel.invokeFunction('convertToInteractive',\n",
              "                                                     [key], {});\n",
              "          if (!dataTable) return;\n",
              "\n",
              "          const docLinkHtml = 'Like what you see? Visit the ' +\n",
              "            '<a target=\"_blank\" href=https://colab.research.google.com/notebooks/data_table.ipynb>data table notebook</a>'\n",
              "            + ' to learn more about interactive tables.';\n",
              "          element.innerHTML = '';\n",
              "          dataTable['output_type'] = 'display_data';\n",
              "          await google.colab.output.renderOutput(dataTable, element);\n",
              "          const docLink = document.createElement('div');\n",
              "          docLink.innerHTML = docLinkHtml;\n",
              "          element.appendChild(docLink);\n",
              "        }\n",
              "      </script>\n",
              "    </div>\n",
              "  </div>\n",
              "  "
            ]
          },
          "metadata": {},
          "execution_count": 50
        }
      ]
    },
    {
      "cell_type": "code",
      "source": [
        "# idneitfy the data and the labels\n",
        "data= data_df['Cleaned']\n",
        "target= data_df['Classification']"
      ],
      "metadata": {
        "id": "hwhQzKlFGySL"
      },
      "execution_count": null,
      "outputs": []
    },
    {
      "cell_type": "code",
      "source": [
        "# Use TfidfVectorizer for feature extraction (TFIDF to convert textual data to numeric form):\n",
        "tf_vec = TfidfVectorizer()\n",
        "X = tf_vec.fit_transform(data)\n",
        "X.shape"
      ],
      "metadata": {
        "id": "jl5RiOEEG9-j",
        "colab": {
          "base_uri": "https://localhost:8080/"
        },
        "outputId": "97c31fb1-d385-48ad-f523-cc3cf9bf1e8a"
      },
      "execution_count": null,
      "outputs": [
        {
          "output_type": "execute_result",
          "data": {
            "text/plain": [
              "(536, 3695)"
            ]
          },
          "metadata": {},
          "execution_count": 52
        }
      ]
    },
    {
      "cell_type": "code",
      "source": [
        "# Training Phase\n",
        "X_train, X_test, y_train, y_test = train_test_split(X, target, test_size=0.25, random_state=0, stratify=target)"
      ],
      "metadata": {
        "id": "fhXwKHp8JGrP"
      },
      "execution_count": null,
      "outputs": []
    },
    {
      "cell_type": "code",
      "source": [
        "print(X_train.shape,X_test.shape,y_train.shape,y_test.shape)"
      ],
      "metadata": {
        "id": "XEOO4vZmL19B",
        "colab": {
          "base_uri": "https://localhost:8080/"
        },
        "outputId": "fe0e2c41-e237-484a-cb1e-4c0034e18841"
      },
      "execution_count": null,
      "outputs": [
        {
          "output_type": "stream",
          "name": "stdout",
          "text": [
            "(402, 3695) (134, 3695) (402,) (134,)\n"
          ]
        }
      ]
    },
    {
      "cell_type": "code",
      "source": [
        "# create the classifer and fit the training data and lables\n",
        "classifier_svm = svm.SVC(kernel='linear', C=1, probability=True).fit(X_train,y_train)\n",
        "\n",
        "print(\"SVM accuracy: %.2f\"%classifier_svm.score(X_test, y_test))\n",
        "\n",
        "#do a 10 fold cross-validation \n",
        "results_svm = cross_val_score(classifier_svm, X,target, cv=10)\n",
        "print(\"\\n10-fold cross-validation:\")\n",
        "print(results_svm)\n",
        "\n",
        "print(\"The average accuracy of the SVM classifier is : %.2f\" % np.mean(results_svm))\n",
        "\n",
        "print(\"\\nConfusion matrix of the SVM classifier:\")\n",
        "predicted_svm = classifier_svm.predict(X_test)\n",
        "print(confusion_matrix(y_test,predicted_svm))\n",
        "\n",
        "\n",
        "print(\"\\nClassification_report of SVM classifier:\")\n",
        "print(classification_report(y_test,predicted_svm))\n",
        "print(\"----------------------------------------------------------------------------\")\n",
        "\n",
        "cm = confusion_matrix(y_target=y_test, \n",
        "                      y_predicted=predicted_svm)\n",
        "\n",
        "fig, ax = plot_confusion_matrix(cm, colorbar=True)\n",
        "\n",
        "ax.set_xticklabels([''] + list(np.unique(['negative', 'positive'])))\n",
        "ax.set_yticklabels([''] + list(np.unique(['negative', 'positive'])))\n",
        "plt.title('Confusion matrix for SVM model')\n",
        "plt.show()"
      ],
      "metadata": {
        "id": "g42OT7UTL740",
        "colab": {
          "base_uri": "https://localhost:8080/",
          "height": 638
        },
        "outputId": "33906d66-d8e9-46c2-aea9-f186202e9c07"
      },
      "execution_count": null,
      "outputs": [
        {
          "output_type": "stream",
          "name": "stdout",
          "text": [
            "SVM accuracy: 0.81\n",
            "\n",
            "10-fold cross-validation:\n",
            "[0.66666667 0.55555556 0.64814815 0.74074074 0.66666667 0.85185185\n",
            " 0.86792453 0.79245283 0.94339623 0.81132075]\n",
            "The average accuracy of the SVM classifier is : 0.75\n",
            "\n",
            "Confusion matrix of the SVM classifier:\n",
            "[[56 11]\n",
            " [14 53]]\n",
            "\n",
            "Classification_report of SVM classifier:\n",
            "              precision    recall  f1-score   support\n",
            "\n",
            "           0       0.80      0.84      0.82        67\n",
            "           1       0.83      0.79      0.81        67\n",
            "\n",
            "    accuracy                           0.81       134\n",
            "   macro avg       0.81      0.81      0.81       134\n",
            "weighted avg       0.81      0.81      0.81       134\n",
            "\n",
            "----------------------------------------------------------------------------\n"
          ]
        },
        {
          "output_type": "error",
          "ename": "TypeError",
          "evalue": "ignored",
          "traceback": [
            "\u001b[0;31m---------------------------------------------------------------------------\u001b[0m",
            "\u001b[0;31mTypeError\u001b[0m                                 Traceback (most recent call last)",
            "\u001b[0;32m<ipython-input-55-0cda3f2370b1>\u001b[0m in \u001b[0;36m<module>\u001b[0;34m()\u001b[0m\n\u001b[1;32m     21\u001b[0m \u001b[0;34m\u001b[0m\u001b[0m\n\u001b[1;32m     22\u001b[0m cm = confusion_matrix(y_target=y_test, \n\u001b[0;32m---> 23\u001b[0;31m                       y_predicted=predicted_svm)\n\u001b[0m\u001b[1;32m     24\u001b[0m \u001b[0;34m\u001b[0m\u001b[0m\n\u001b[1;32m     25\u001b[0m \u001b[0mfig\u001b[0m\u001b[0;34m,\u001b[0m \u001b[0max\u001b[0m \u001b[0;34m=\u001b[0m \u001b[0mplot_confusion_matrix\u001b[0m\u001b[0;34m(\u001b[0m\u001b[0mcm\u001b[0m\u001b[0;34m,\u001b[0m \u001b[0mcolorbar\u001b[0m\u001b[0;34m=\u001b[0m\u001b[0;32mTrue\u001b[0m\u001b[0;34m)\u001b[0m\u001b[0;34m\u001b[0m\u001b[0;34m\u001b[0m\u001b[0m\n",
            "\u001b[0;31mTypeError\u001b[0m: confusion_matrix() got an unexpected keyword argument 'y_target'"
          ]
        }
      ]
    },
    {
      "cell_type": "code",
      "source": [
        "\n",
        "# for row_index, (input, prediction, label, text) in enumerate(zip (X_test, predicted_svm, y_test, data)):\n",
        "#   if prediction != label:\n",
        "#     print('Row', row_index,'text:', text, 'has been classified as \\n', prediction, '\\nand should be ', label,'\\n\\n\\n')"
      ],
      "metadata": {
        "id": "T9vx1FPpc6Sw"
      },
      "execution_count": null,
      "outputs": []
    },
    {
      "cell_type": "code",
      "source": [
        "# calculate the fpr and tpr for all thresholds of the classification\n",
        "probs = classifier_svm.predict_proba(X_test)\n",
        "preds = probs[:,1]\n",
        "\n",
        "fpr, tpr, threshold = metrics.roc_curve(y_test, preds)\n",
        "roc_auc = metrics.auc(fpr, tpr)"
      ],
      "metadata": {
        "id": "5Vwoqnf4V0wY"
      },
      "execution_count": null,
      "outputs": []
    },
    {
      "cell_type": "code",
      "source": [
        "# polt the AUC\n",
        "plt.title('Receiver Operating Characteristic SVM classifier')\n",
        "plt.plot(fpr, tpr, 'b', label = 'AUC = %0.2f' % roc_auc)\n",
        "plt.legend(loc = 'lower right')\n",
        "plt.plot([0, 1], [0, 1],'r--')\n",
        "plt.xlim([0, 1])\n",
        "plt.ylim([0, 1])\n",
        "plt.ylabel('True Positive Rate')\n",
        "plt.xlabel('False Positive Rate')\n",
        "plt.show()"
      ],
      "metadata": {
        "id": "BjpTUy_3V8Z4",
        "colab": {
          "base_uri": "https://localhost:8080/",
          "height": 295
        },
        "outputId": "e7c2353b-67f1-4055-8acb-87719061f52a"
      },
      "execution_count": null,
      "outputs": [
        {
          "output_type": "display_data",
          "data": {
            "text/plain": [
              "<Figure size 432x288 with 1 Axes>"
            ],
            "image/png": "[encoded data removed]"
          },
          "metadata": {
            "needs_background": "light"
          }
        }
      ]
    },
    {
      "cell_type": "code",
      "source": [
        "# build the second classifer, logsitic regrssion \n",
        "classifier_log =  LogisticRegression().fit(X_train,y_train)"
      ],
      "metadata": {
        "id": "rrt93qxHWkI1"
      },
      "execution_count": null,
      "outputs": []
    },
    {
      "cell_type": "code",
      "source": [
        "print(\"Logisitic Accuracy: %.2F\"%classifier_log.score(X_test, y_test))\n",
        "results_log = cross_val_score(classifier_log, X,target, cv=10)\n",
        "\n",
        "\n",
        "print(\"\\n10-fold cross-validation:\")\n",
        "print(results_log)\n",
        "\n",
        "print(\"The average accuracy of the Logisitic classifier is : %.2f\" % np.mean(results_log))\n",
        "print(\"\\nConfusion matrix of the Logisitic classifier:\")\n",
        "predicted_log= classifier_log.predict(X_test)\n",
        "print(confusion_matrix(y_test,predicted_log))\n",
        "\n",
        "print(\"\\nClassification_report of Logisitic classifier:\")\n",
        "print(classification_report(y_test,predicted_log))\n",
        "print(\"----------------------------------------------------------------------------\")\n",
        "\n",
        "cm = confusion_matrix(y_target=y_test, \n",
        "                      y_predicted=predicted_log,)\n",
        "\n",
        "fig, ax = plot_confusion_matrix(cm, colorbar=True)\n",
        "\n",
        "ax.set_xticklabels([''] + list(np.unique(['negative', 'positive'])))\n",
        "ax.set_yticklabels([''] + list(np.unique(['negative', 'positive'])))\n",
        "plt.title('Confusion matrix for Logsitic Regrssion  model')\n",
        "plt.show()"
      ],
      "metadata": {
        "id": "YkHhNw59XKA5",
        "colab": {
          "base_uri": "https://localhost:8080/",
          "height": 638
        },
        "outputId": "b71f14ed-5901-4b4f-9764-8568b975922c"
      },
      "execution_count": null,
      "outputs": [
        {
          "output_type": "stream",
          "name": "stdout",
          "text": [
            "Logisitic Accuracy: 0.79\n",
            "\n",
            "10-fold cross-validation:\n",
            "[0.61111111 0.5        0.59259259 0.77777778 0.64814815 0.87037037\n",
            " 0.86792453 0.8490566  0.96226415 0.77358491]\n",
            "The average accuracy of the Logisitic classifier is : 0.75\n",
            "\n",
            "Confusion matrix of the Logisitic classifier:\n",
            "[[56 11]\n",
            " [17 50]]\n",
            "\n",
            "Classification_report of Logisitic classifier:\n",
            "              precision    recall  f1-score   support\n",
            "\n",
            "           0       0.77      0.84      0.80        67\n",
            "           1       0.82      0.75      0.78        67\n",
            "\n",
            "    accuracy                           0.79       134\n",
            "   macro avg       0.79      0.79      0.79       134\n",
            "weighted avg       0.79      0.79      0.79       134\n",
            "\n",
            "----------------------------------------------------------------------------\n"
          ]
        },
        {
          "output_type": "error",
          "ename": "TypeError",
          "evalue": "ignored",
          "traceback": [
            "\u001b[0;31m---------------------------------------------------------------------------\u001b[0m",
            "\u001b[0;31mTypeError\u001b[0m                                 Traceback (most recent call last)",
            "\u001b[0;32m<ipython-input-61-a436fa6ecde0>\u001b[0m in \u001b[0;36m<module>\u001b[0;34m()\u001b[0m\n\u001b[1;32m     16\u001b[0m \u001b[0;34m\u001b[0m\u001b[0m\n\u001b[1;32m     17\u001b[0m cm = confusion_matrix(y_target=y_test, \n\u001b[0;32m---> 18\u001b[0;31m                       y_predicted=predicted_log,)\n\u001b[0m\u001b[1;32m     19\u001b[0m \u001b[0;34m\u001b[0m\u001b[0m\n\u001b[1;32m     20\u001b[0m \u001b[0mfig\u001b[0m\u001b[0;34m,\u001b[0m \u001b[0max\u001b[0m \u001b[0;34m=\u001b[0m \u001b[0mplot_confusion_matrix\u001b[0m\u001b[0;34m(\u001b[0m\u001b[0mcm\u001b[0m\u001b[0;34m,\u001b[0m \u001b[0mcolorbar\u001b[0m\u001b[0;34m=\u001b[0m\u001b[0;32mTrue\u001b[0m\u001b[0;34m)\u001b[0m\u001b[0;34m\u001b[0m\u001b[0;34m\u001b[0m\u001b[0m\n",
            "\u001b[0;31mTypeError\u001b[0m: confusion_matrix() got an unexpected keyword argument 'y_target'"
          ]
        }
      ]
    },
    {
      "cell_type": "code",
      "source": [
        "# calculate the fpr and tpr for all thresholds of the classification\n",
        "\n",
        "probs = classifier_log.predict_proba(X_test)\n",
        "preds = probs[:,1]\n",
        "\n",
        "fpr, tpr, threshold = metrics.roc_curve(y_test, preds)\n",
        "roc_auc = metrics.auc(fpr, tpr)"
      ],
      "metadata": {
        "id": "Z7WZZQB6YFmS"
      },
      "execution_count": null,
      "outputs": []
    },
    {
      "cell_type": "code",
      "source": [
        "# polt AUC\n",
        "plt.title('Receiver Operating Characteristic for Logisitic classifier')\n",
        "plt.plot(fpr, tpr, 'b', label = 'AUC = %0.2f' % roc_auc)\n",
        "plt.legend(loc = 'lower right')\n",
        "plt.plot([0, 1], [0, 1],'r--')\n",
        "plt.xlim([0, 1])\n",
        "plt.ylim([0, 1])\n",
        "plt.ylabel('True Positive Rate')\n",
        "plt.xlabel('False Positive Rate')\n",
        "plt.show()"
      ],
      "metadata": {
        "id": "Z-xXxKAGYJiq",
        "colab": {
          "base_uri": "https://localhost:8080/",
          "height": 295
        },
        "outputId": "50d216ff-3fd8-4d99-acc7-3468d78d4bc7"
      },
      "execution_count": null,
      "outputs": [
        {
          "output_type": "display_data",
          "data": {
            "text/plain": [
              "<Figure size 432x288 with 1 Axes>"
            ],
            "image/png": "[encoded data removed]"
          },
          "metadata": {
            "needs_background": "light"
          }
        }
      ]
    },
    {
      "cell_type": "code",
      "source": [
        "def most_informative_feature(vectorizer, classifier, top_features=25):\n",
        "    \n",
        "    feature_names = vectorizer.get_feature_names()\n",
        "    svm_coef = classifier.coef_.toarray() \n",
        "    \n",
        "    top_positive_coefficients = sorted(zip(svm_coef[0], feature_names))[-top_features:]\n",
        "    top_negative_coefficients = sorted(zip(svm_coef[0], feature_names))[:top_features]\n",
        "    \n",
        "    print (\"Top Positive Coefficients\")\n",
        "    print (\"==========================\")\n",
        "    for coef, feat in top_positive_coefficients:\n",
        "        print (feat, coef)\n",
        "        \n",
        "    print (\"\")\n",
        "    print (\"Top Negative Coefficients\")\n",
        "    print (\"==========================\")\n",
        "    \n",
        "    for coef, feat in top_negative_coefficients:\n",
        "        print (feat, coef) \n"
      ],
      "metadata": {
        "id": "sd835fx9YVQB"
      },
      "execution_count": null,
      "outputs": []
    },
    {
      "cell_type": "code",
      "source": [
        " plt.rcParams[\"font.family\"] = \"SFArabic.ttf\"\n"
      ],
      "metadata": {
        "id": "XP9iQxt79QWa"
      },
      "execution_count": null,
      "outputs": []
    },
    {
      "cell_type": "code",
      "source": [
        "from sklearn.feature_extraction.text import CountVectorizer\n",
        "from sklearn.svm import LinearSVC\n",
        "import matplotlib.pyplot as plt\n",
        "def plot_coefficients(classifier, feature_names, top_features=20):\n",
        " coef =  np.array(classifier.coef_.todense()).ravel()\n",
        " top_positive_coefficients = np.argsort(coef)[-top_features:]\n",
        " print(top_positive_coefficients)\n",
        " top_negative_coefficients = np.argsort(coef)[:top_features]\n",
        " top_coefficients = np.hstack([top_negative_coefficients, top_positive_coefficients])\n",
        " # create plot\n",
        " plt.figure(figsize=(15, 5))\n",
        " colors = ['red' if c < 0 else 'blue' for c in coef[top_coefficients]]\n",
        " plt.bar(np.arange(2 * top_features), coef[top_coefficients], color=colors)\n",
        " feature_names = np.array(feature_names)\n",
        " plt.xticks(np.arange(1, 1 + 2 * top_features), feature_names[top_coefficients], rotation=60, ha='right')\n",
        " plt.show()\n",
        "\n",
        "\n",
        "\n",
        "def reverse(feature):\n",
        "    return get_display(arabic_reshaper.reshape(feature))\n",
        "\n",
        "\n",
        "reversed_features = list(map(reverse, tf_vec.get_feature_names()))\n",
        "  \n",
        "print( tf_vec.get_feature_names())\n",
        "plot_coefficients(classifier_svm, reversed_features)"
      ],
      "metadata": {
        "id": "WHeQSGhn6XKg",
        "colab": {
          "base_uri": "https://localhost:8080/",
          "height": 453
        },
        "outputId": "93eb34e9-9aa1-4ed5-b224-eeed229bf11f"
      },
      "execution_count": 178,
      "outputs": [
        {
          "output_type": "stream",
          "name": "stderr",
          "text": [
            "/usr/local/lib/python3.7/dist-packages/sklearn/utils/deprecation.py:87: FutureWarning: Function get_feature_names is deprecated; get_feature_names is deprecated in 1.0 and will be removed in 1.2. Please use get_feature_names_out instead.\n",
            "  warnings.warn(msg, category=FutureWarning)\n"
          ]
        },
        {
          "output_type": "stream",
          "name": "stdout",
          "text": [
            "['022', '059', '06', '0799', '100', '100100', '100ياررب', '140', '1434ه', '1439ه', '1441وين', '20', '2022', '202216', '2030', '22', '2210', '22112021', '22121447', '225608016166448', '24', '25', '275', '29', '30', '31', '37051906', '40', '400', '48', '50', '5emblem', '60سنه', '626', '692', '700', '764', '96', 'apple', 'balance', 'bank', 'beneficiary', 'gtgt', 'is', 'of', 'out', 'pay', 'road', 'sorry', 'stc', 'stcpay', 'the', 'trick', 'urpay', 'usa', 'ائتمانيه', 'ااه', 'ابائهم', 'ابتعد', 'ابتواصل', 'ابدا', 'ابدااع', 'ابداع', 'ابدعتو', 'ابدعوا', 'ابديت', 'ابراهيم', 'ابشتري', 'ابصراحه', 'ابغاها', 'ابغي', 'ابل', 'ابلشونا', 'ابو', 'ابي', 'اتاحه', 'اتجاهلها', 'اتجاوز', 'اتخلص', 'اتصال', 'اتصل', 'اتصلت', 'اتعامل', 'اتعاملت', 'اتعبتوا', 'اتقبل', 'اتمام', 'اتمنئ', 'اتمني', 'اتمو', 'اتواصل', 'اتوقع', 'اثاثك', 'اثبات', 'اثق', 'اثناء', 'اجد', 'اجدادكم', 'اجدد', 'اجراءات', 'اجل', 'اجمع', 'اجمعين', 'اجمل', 'اجهزه', 'اجي', 'اجيهم', 'احاسب', 'احاول', 'احب', 'احبك', 'احبكم', 'احترافيه', 'احتراما', 'احتياط', 'احتيال', 'احد', 'احدد', 'احذر', 'احذفها', 'احس', 'احسب', 'احسن', 'احسنتم', 'احسها', 'احصل', 'احصلها', 'احط', 'احلها', 'احلي', 'احول', 'احووس', 'احيانا', 'اخ', 'اخبرني', 'اخبروه', 'اختار', 'اختصروها', 'اختلاف', 'اختي', 'اختيار', 'اخخ', 'اخذ', 'اخذت', 'اخذتوا', 'اخذنا', 'اخذه', 'اخر', 'اخري', 'اخس', 'اخطاء', 'اخلا', 'اخلاء', 'اخلص', 'اخواني', 'اخوي', 'اخوياي', 'اخي', 'اخيس', 'اداء', 'ادائهم', 'ادارتكم', 'ادارته', 'اداره', 'ادخار', 'ادخل', 'ادخلها', 'ادراج', 'ادري', 'ادفع', 'اذا', 'اذهب', 'اذود', 'اراتب', 'اراجع', 'اراله', 'ارباح', 'اربح', 'اربع', 'ارتفاع', 'ارجو', 'ارجوا', 'ارجوكم', 'ارجومنكم', 'ارحم', 'ارسال', 'ارسل', 'ارسلت', 'ارسلتوا', 'ارسله', 'ارسلوا', 'ارصدتنا', 'ارض', 'ارفاق', 'ارفع', 'ارفق', 'ارقام', 'ارقي', 'ارمكو', 'اروح', 'اريد', 'ازبل', 'ازدحام', 'ازعجنا', 'اس', 'اساسا', 'اساسيه', 'اسال', 'اسبب', 'اسبوع', 'اسبوعين', 'استاذي', 'استبعاد', 'استثماري', 'استحواذ', 'استحيت', 'استخدمت', 'استخدمتها', 'استخدمه', 'استخدمها', 'استخراج', 'استخرجت', 'استراجاع', 'استرداد', 'استعاده', 'استغل', 'استفادو', 'استفدت', 'استفيد', 'استقطاعات', 'استلم', 'استلمت', 'استماره', 'استمتع', 'استهتار', 'استهزاء', 'اسددت', 'اسرع', 'اسره', 'اسفل', 'اسكره', 'اسلامي', 'اسلوبه', 'اسم', 'اسمع', 'اسمها', 'اسهل', 'اسهم', 'اسوء', 'اسوا', 'اسوي', 'اسويه', 'اش', 'اشتراك', 'اشتري', 'اشتريت', 'اشتريها', 'اشتغل', 'اشتغلت', 'اشتكي', 'اشرد', 'اشردو', 'اشردوو', 'اشعار', 'اشكاليه', 'اشكر', 'اشكركم', 'اشهد', 'اشهر', 'اشهرا', 'اشوف', 'اصحاب', 'اصدرت', 'اصلاح', 'اصوره', 'اضافي', 'اضافيه', 'اضطريت', 'اضفته', 'اضفها', 'اضمن', 'اطالب', 'اطالبهم', 'اطرد', 'اطلب', 'اطلع', 'اظافيه', 'اعاده', 'اعاني', 'اعتبار', 'اعتذرت', 'اعتقد', 'اعجبك', 'اعجزتنا', 'اعرف', 'اعزهم', 'اعطاء', 'اعطاني', 'اعطي', 'اعطيتونا', 'اعلان', 'اعلن', 'اعلي', 'اعماق', 'اغلاق', 'اغلب', 'اغير', 'اغيره', 'افاده', 'افتح', 'افتخر', 'افتقدت', 'افدني', 'افشل', 'افصل', 'افضل', 'افطس', 'افك', 'افكر', 'افووز', 'افي', 'افيدونا', 'افيدوني', 'اقتراح', 'اقدر', 'اقدم', 'اقرب', 'اقساط', 'اقسم', 'اقصادها', 'اقصد', 'اقصي', 'اقعد', 'اقفل', 'اقفلت', 'اقل', 'اقلبي', 'اقول', 'اقوي', 'اكبر', 'اكتشف', 'اكثر', 'اكره', 'اكل', 'اكلف', 'اكلم', 'اكلمكم', 'اكلمه', 'اكمل', 'اكنسله', 'اكون', 'الا', 'الائتمان', 'الائتمانيه', 'الابالله', 'الابتدائيه', 'الاتصال', 'الاجابه', 'الاجراءات', 'الاجرائات', 'الاحترافيه', 'الاحتكار', 'الاحلاق', 'الاحيان', 'الاخ', 'الاخر', 'الاخري', 'الاخرين', 'الاخوان', 'الاخوه', 'الاخيره', 'الادارات', 'الاداره', 'الاداريه', 'الارباح', 'الارضيه', 'الارقام', 'الاركان', 'الاسبوعين', 'الاستثمار', 'الاستثماري', 'الاستجابه', 'الاستحقاق', 'الاستحواذ', 'الاستخدام', 'الاسترداد', 'الاستفتاء', 'الاستقطاع', 'الاستماره', 'الاسر', 'الاسرع', 'الاسف', 'الاسكان', 'الاسنفسار', 'الاسهم', 'الاسود', 'الاضافيه', 'الاضرار', 'الاطلاق', 'الاعلي', 'الاغلاق', 'الاف', 'الافاده', 'الافضل', 'الافضليه', 'الاقتصاد', 'الاقصي', 'الاكيد', 'الالاف', 'الالغاء', 'الالكترونيه', 'الالي', 'الاليكترونيه', 'الامارات', 'الامور', 'الان', 'الانترنت', 'الانتقال', 'الانجاز', 'الاندماج', 'الانذار', 'الانسانيه', 'الانطباع', 'الانماء', 'الاني', 'الاهتمام', 'الاهلي', 'الاهليه', 'الاوامر', 'الاوراق', 'الاوسط', 'الاول', 'الاونلاين', 'الايجار', 'الايداع', 'البارح', 'الباسورد', 'البدايه', 'البرنامج', 'البريطاني', 'البسيطه', 'البشر', 'البطاقات', 'البطاقه', 'البقيه', 'البلاد', 'البلاغ', 'البلد', 'البناء', 'البنك', 'البنكين', 'البنكيه', 'البنوك', 'البيانات', 'التاخير', 'التاسيس', 'التبرعات', 'التجار', 'التجاره', 'التجاري', 'التجاريه', 'التجاوب', 'التجديد', 'التحديث', 'التحقق', 'التحويل', 'التحويلات', 'التحيه', 'التدخل', 'التدريب', 'التزام', 'التزامك', 'التسوق', 'التسويق', 'التطبيق', 'التطبيقات', 'التطور', 'التعامل', 'التعاملات', 'التغيير', 'التغييرات', 'التفعيل', 'التقدير', 'التقديري', 'التقديم', 'التقليديه', 'التقني', 'التقنيه', 'التلاعب', 'التمديد', 'التمليك', 'التمويل', 'التمويليه', 'التميز', 'التناقض', 'التنميه', 'التواصل', 'التوالي', 'التوجه', 'التوضيح', 'التوفيق', 'التوقعات', 'الثالث', 'الثالثه', 'الثاني', 'الثانيه', 'الثراء', 'الثقه', 'الجامعه', 'الجبار', 'الجدوله', 'الجديد', 'الجزيره', 'الجماعه', 'الجمعه', 'الجميع', 'الجميل', 'الجهاز', 'الجهازين', 'الجوال', 'الجوده', 'الحاصل', 'الحاله', 'الحالي', 'الحبيب', 'الحد', 'الحذر', 'الحساب', 'الحسابي', 'الحصول', 'الحظر', 'الحق', 'الحل', 'الحلال', 'الحلول', 'الحلوه', 'الحمدالله', 'الحمدلله', 'الحمله', 'الحواله', 'الحوالهوش', 'الحولات', 'الحياه', 'الحين', 'الخ', 'الخاص', 'الخاصه', 'الخانات', 'الخبره', 'الخبيث', 'الخدمات', 'الخدمه', 'الخدميه', 'الخدوم', 'الخصم', 'الخصوص', 'الخط', 'الخطا', 'الخفيف', 'الخلفيه', 'الخلوق', 'الخميس', 'الخير', 'الدائم', 'الداعم', 'الدجل', 'الدخول', 'الدراهم', 'الدعائيه', 'الدعم', 'الدفع', 'الدفعات', 'الدفعه', 'الدنيا', 'الدهر', 'الدوام', 'الدول', 'الذاتي', 'الذاتيه', 'الذل', 'الرائد', 'الرائعه', 'الرابط', 'الراتب', 'الراجح', 'الراجحي', 'الراحجي', 'الراححي', 'الراقيه', 'الربح', 'الرجاء', 'الرجال', 'الرجحي', 'الرحمن', 'الرد', 'الردود', 'الرساله', 'الرسم', 'الرسميه', 'الرسوم', 'الرشيده', 'الرصيد', 'الرفض', 'الرقم', 'الرقميه', 'الرهيب', 'الروعه', 'الرياض', 'الزحام', 'الزين', 'السؤال', 'الساده', 'الساعات', 'الساعه', 'السالفه', 'السايبر', 'السبب', 'السبوع', 'السجل', 'السجن', 'السحب', 'السداد', 'السرعه', 'السري', 'السريع', 'السعودي', 'السعوديه', 'السلام', 'السليمانيه', 'السماء', 'السماوات', 'السنتين', 'السنوات', 'السنين', 'السوق', 'السيئه', 'السيارات', 'السياره', 'السيد', 'السيستم', 'الشامله', 'الشحنات', 'الشخص', 'الشخصي', 'الشخصيه', 'الشرائيه', 'الشرايح', 'الشرطه', 'الشركه', 'الشروط', 'الشريحه', 'الشطاره', 'الشكر', 'الشكوي', 'الشكيبي', 'الشهر', 'الشهري', 'الشهيد', 'الشوكه', 'الشي', 'الصباح', 'الصبح', 'الصدر', 'الصراحه', 'الصراف', 'الصرافات', 'الصرافه', 'الصعود', 'الصفر', 'الصك', 'الصكوك', 'الصناديق', 'الصيف', 'الضريبه', 'الضمان', 'الطتبيق', 'الطرف', 'الطلب', 'الظهر', 'العاديين', 'العافيه', 'العالم', 'العالمي', 'العام', 'العامه', 'العثيم', 'العدل', 'العربي', 'العربيه', 'العرض', 'العسكري', 'العشرين', 'العصر', 'العضيم', 'العظيم', 'العفو', 'العقار', 'العقاري', 'العقاريه', 'العقد', 'العقود', 'العلم', 'العلي', 'العليا', 'العمال', 'العمر', 'العمل', 'العملا', 'العملاء', 'العملاق', 'العمليات', 'العمليه', 'العميل', 'العن', 'العنيل', 'العوض', 'الغاء', 'الغالي', 'الغريب', 'الغوا', 'الغيب', 'الغير', 'الغيها', 'الف', 'الفائده', 'الفائض', 'الفاشله', 'الفاضي', 'الفتره', 'الفجر', 'الفرص', 'الفرصه', 'الفرع', 'الفرق', 'الفروع', 'الفكه', 'الفلاح', 'الفلوس', 'الفلوس0', 'الفيزا', 'القادمه', 'القديم', 'القديمه', 'القرض', 'القروض', 'القري', 'القسط', 'القضيه', 'القلب', 'القمه', 'القيد', 'الكارثه', 'الكاش', 'الكاشير', 'الكامله', 'الكترونيه', 'الكذب', 'الكرم', 'الكره', 'الكريم', 'الكلام', 'الكلي', 'الكهرب', 'الكون', 'اللئيم', 'اللحظه', 'الله', 'اللهم', 'اللوم', 'اللون', 'اللي', 'الليل', 'اللين', 'المؤشر', 'المؤقره', 'الماضيه', 'المال', 'الماليه', 'المباشر', 'المباشره', 'المبالغ', 'المبكر', 'المبلغ', 'المتاجر', 'المتاحه', 'المتعثرات', 'المتفق', 'المجد', 'المجره', 'المحاوله', 'المحتاج', 'المحترمه', 'المحدث', 'المحفظه', 'المحكمه', 'المحلات', 'المحليه', 'المخالصه', 'المخضرم', 'المدخله', 'المدفوعات', 'المده', 'المدينه', 'المديونه', 'المديونيات', 'المديونيه', 'المذكوره', 'المرجع', 'المرجعي', 'المرشحه', 'المركز', 'المركزي', 'المرمطه', 'المرموق', 'المرور', 'المسؤولين', 'المساء', 'المساحات', 'المساعده', 'المسافر', 'المستخدم', 'المستفيدين', 'المستقبل', 'المستمر', 'المشاكل', 'المشتريات', 'المشكله', 'المصارف', 'المصرف', 'المصرفي', 'المصرفيه', 'المضافه', 'المطاعم', 'المطالب', 'المطلوب', 'المطلوبه', 'المظيبري', 'المعتمد', 'المعلومات', 'المفروض', 'المفضل', 'المفظل', 'المقاهي', 'المقدمه', 'المكينه', 'الملتجئ', 'الملك', 'المماطله', 'الممانعه', 'الممتاز', 'المملكه', 'المميز', 'المميزات', 'المميزين', 'المناسب', 'المنافسين', 'المنتجه', 'المنتهي', 'المنحه', 'المنشات', 'المنقذ', 'المنوره', 'المهبول', 'المهم', 'المواطن', 'المواطنين', 'الموافقه', 'المواكبه', 'الموضفين', 'الموضوع', 'الموظف', 'الموظفه', 'الموظفين', 'الموقع', 'الميمون', 'الميه', 'الناحيه', 'الناس', 'النجاح', 'النسبه', 'النظام', 'النظر', 'النعال', 'النعيم', 'النقد', 'النقدي', 'النكبات', 'النهار', 'النهايه', 'الهاتف', 'الهدف', 'الهروب', 'الهم', 'الهويه', 'الواحد', 'الواقع', 'الوالد', 'الوحيد', 'الوزير', 'الوضع', 'الوطن', 'الوطني', 'الوقت', 'الوكيل', 'الوهمي', 'الوو', 'الي', 'اليكم', 'اليل', 'اليمن', 'الين', 'اليه', 'اليوتوب', 'اليوم', 'ال٢٠', 'اما', 'امانه', 'امرك', 'امرين', 'امس', 'امكان', 'امل', 'املائي', 'امن', 'امنيه', 'اموالي', 'امورنا', 'اموري', 'ان', 'انا', 'انام', 'انت', 'انتضر', 'انتظار', 'انتظر', 'انتظركم', 'انتم', 'انتهت', 'انتو', 'انتي', 'انجاز', 'انجس', 'انحديت', 'انحلت', 'اندماجات', 'انسحب', 'انصح', 'انصحكم', 'انقل', 'انك', 'انكم', 'انني', 'انه', 'انها', 'انهجر', 'انهم', 'انو', 'اني', 'اهتمام', 'اهتمامكم', 'اهتميتو', 'اهلا', 'اهلي', 'اهم', 'اهمال', 'اهني', 'اهنيهم', 'او', 'اوبر', 'اوبنك', 'اوتش', 'اودعوها', 'اوسدد', 'اول', 'اولادهم', 'اون', 'اونلاين', 'اوهكر', 'اي', 'ايام', 'ايامنا', 'ايباد', 'ايبان', 'ايتام', 'ايجابي', 'ايجابيا', 'ايداع', 'ايش', 'ايصال', 'ايصالات', 'ايضا', 'ايقاف', 'ايل', 'ايميل', 'اين', 'بابا', 'بابشر', 'باتاحت', 'باحترافيه', 'باختصار', 'باخذ', 'باذن', 'بارباحه', 'بارفاق', 'بارك', 'بازدهار', 'باسبوعين', 'باستغل', 'باستغلاله', 'باسرع', 'باسم', 'باسمي', 'باعاده', 'باعتقادي', 'باقي', 'باك', 'باكثر', 'بالابل', 'بالاخير', 'بالاسهم', 'بالاطلاع', 'بالالفاظ', 'بالامكان', 'بالبطاقات', 'بالبطاقه', 'بالبنك', 'بالتاجير', 'بالتطبيق', 'بالتطور', 'بالتعامل', 'بالتعاملات', 'بالتمليك', 'بالتنفيذ', 'بالتوفيق', 'بالحلق', 'بالحمله', 'بالحياه', 'بالخطا', 'بالخير', 'بالدمام', 'بالدين', 'بالراجحي', 'بالرياض', 'بالسالب', 'بالسداد', 'بالسعوديه', 'بالسهم', 'بالسوق', 'بالشرق', 'بالشروط', 'بالضبط', 'بالعجه', 'بالعربي', 'بالعقد', 'بالعكس', 'بالعميل', 'بالغدير', 'بالغرض', 'بالغلط', 'بالفتره', 'بالفرق', 'بالفعل', 'بالفيزاء', 'بالقروبات', 'بالكلام', 'بالله', 'بالليل', 'بالمبلغ', 'بالمطعم', 'بالملياراتويوزع', 'بالمملكه', 'بالنسبه', 'بالنظام', 'بالهاتف', 'باموال', 'بان', 'بانكم', 'باننا', 'بانه', 'بانهاء', 'باني', 'باهمالكم', 'باي', 'ببطاقتي', 'ببطاقه', 'ببنك', 'بتاريخ', 'بتجربتكم', 'بتحديد', 'بتحفيز', 'بتردو', 'بتسوين', 'بتطبيق', 'بتطور', 'بتعالي', 'بتعرف', 'بتفهم', 'بتقرير', 'بتكون', 'بتمويل', 'بتناغم', 'بتواصل', 'بجانب', 'بجرعات', 'بحاول', 'بحب', 'بحث', 'بحجبها', 'بحجه', 'بحد', 'بحسابات', 'بحسابي', 'بحطون', 'بحول', 'بخدماتكم', 'بخصم', 'بخصوص', 'بدايه', 'بدري', 'بدريتري', 'بدل', 'بدلا', 'بدون', 'بديل', 'بدينا', 'بديون', 'برا', 'براءته', 'براجحي', 'برج', 'برسلك', 'برضه', 'برفع', 'برقم', 'برنامج', 'برهان', 'بري', 'بزمن', 'بزياده', 'بس', 'بسبب', 'بسببها', 'بستثمر', 'بسرعه', 'بسم', 'بسمه', 'بسهوله', 'بسيط', 'بسيطغريبه', 'بسيطه', 'بشاهدين', 'بشركه', 'بشروا', 'بشرونا', 'بشكل', 'بشوفه', 'بصرااحه', 'بصراحه', 'بضغطت', 'بطاقات', 'بطاقاتكم', 'بطاقاتي', 'بطاقتي', 'بطاقه', 'بطايق', 'بطلع', 'بطلل', 'بظهر', 'بعدكم', 'بعدم', 'بعدها', 'بعدين', 'بعزل', 'بعكس', 'بعمره', 'بعملاء', 'بعملاءه', 'بعملائه', 'بعمليتين', 'بعنايه', 'بعونك', 'بعيد', 'بفك', 'بقاله', 'بقدم', 'بقليل', 'بقناعه', 'بقوه', 'بقيمه', 'بقيه', 'بكثير', 'بكره', 'بكل', 'بكلام', 'بكون', 'بكيف', 'بلا', 'بلادنا', 'بلحق', 'بلس', 'بلغت', 'بلغتهم', 'بلغتونا', 'بلغوني', 'بمبلغ', 'بمراجعه', 'بمرض', 'بمصرف', 'بمناسبه', 'بمنح', 'بميداليه', 'بن', 'بناء', 'بنائه', 'بنت', 'بنجاح', 'بنجاحات', 'بنسبه', 'بنصف', 'بنظام', 'بنفسه', 'بنفسي', 'بنك', 'بنكي', 'بنكيه', 'بنود', 'بنوك', 'بهامش', 'بهذا', 'بهذل', 'بهذلنا', 'بواجب', 'بوضوح', 'بوفيه', 'بوقت', 'بي', 'بيانات', 'بياناتي', 'بيتي', 'بيجمدون', 'بيحلونها', 'بيرسلو', 'بيسبقكم', 'بيض', 'بيضاء', 'بينصرني', 'بينكم', 'بينما', 'بيننا', 'بينه', 'بيوم', 'تابعه', 'تابعين', 'تاتي', 'تاثر', 'تاجير', 'تاجيل', 'تاخذ', 'تاخذه', 'تاخذون', 'تاخرونا', 'تاخير', 'تاريخ', 'تاسي', 'تاسيسه', 'تاكلون', 'تالي', 'تايخ', 'تبارك', 'تبع', 'تبغاه', 'تبغي', 'تبن', 'تبهروني', 'تبي', 'تتضمن', 'تتعامل', 'تتفاوت', 'تتفعل', 'تتوسط', 'تتوقع', 'تتوهق', 'تتيسر', 'تجاوب', 'تجاوبكم', 'تجاوزنا', 'تجده', 'تجديد', 'تجربتي', 'تجربه', 'تجميد', 'تجنن', 'تجي', 'تجيني', 'تحاسب', 'تحتاج', 'تحديث', 'تحذوا', 'تحذير', 'تحرك', 'تحصيل', 'تحطي', 'تحقق', 'تحقيقه', 'تحل', 'تحلون', 'تحوسون', 'تحول', 'تحويل', 'تحياتي', 'تحيه', 'تخاف', 'تختار', 'تخرب', 'تخصم', 'تخصمون', 'تخلص', 'تخيل', 'تدافع', 'تداول', 'تدخل', 'تدل', 'تذكرت', 'ترا', 'تراك', 'تراه', 'ترتاحين', 'ترد', 'تردون', 'ترسلون', 'ترفض', 'تروح', 'تروحون', 'تروحين', 'تري', 'تزعمون', 'تساؤلات', 'تسال', 'تساهيل', 'تستثقلك', 'تستعيد', 'تستفيد', 'تسجل', 'تسدد', 'تسديد', 'تسمحون', 'تسهيل', 'تسون', 'تسوون', 'تسوي', 'تشترون', 'تشتغل', 'تشوفه', 'تشوفون', 'تصاميم', 'تصدر', 'تصدق', 'تصرف', 'تصل', 'تصلح', 'تصلني', 'تصير', 'تصيرون', 'تضايقتي', 'تضررنا', 'تضعوا', 'تضغط', 'تضيق', 'تطبق', 'تطبيق', 'تطبيقات', 'تطبيقهم', 'تطبيقين', 'تطلب', 'تطلع', 'تطور', 'تطورنا', 'تظمنون', 'تعاقدتوا', 'تعالي', 'تعامل', 'تعاملت', 'تعاملهم', 'تعاملي', 'تعاني', 'تعاون', 'تعب', 'تعبان', 'تعبانه', 'تعبت', 'تعبون', 'تعثرت', 'تعدلون', 'تعدي', 'تعديل', 'تعرضت', 'تعرف', 'تعرفون', 'تعطلت', 'تعطونه', 'تعطوني', 'تعطي', 'تعطيك', 'تعفيني', 'تعلم', 'تعلمه', 'تعلمو', 'تعلموا', 'تعمل', 'تعويض', 'تعويضي', 'تغيرون', 'تغيير', 'تفاءل', 'تفائليه', 'تفاصيل', 'تفرقه', 'تفعلت', 'تفك', 'تفكر', 'تفيد', 'تقدر', 'تقدم', 'تقديم', 'تقريبا', 'تقريبان', 'تقرير', 'تقلعكم', 'تقليدي', 'تقنيه', 'تقولون', 'تقوم', 'تكرمت', 'تكرمتوا', 'تكفون', 'تكلمني', 'تكملونها', 'تكميلي', 'تكون', 'تلاعب', 'تلف', 'تلقي', 'تم', 'تمام', 'تماما', 'تمت', 'تملك', 'تمنت', 'تمنعهم', 'تمهير', 'تمويل', 'تمويليه', 'تميز', 'تنادي', 'تنبيه', 'تنحد', 'تنزل', 'تنشيط', 'تنصفنا', 'تنضاف', 'تنعكس', 'تنفر', 'تنفع', 'تنويهالراجحي', 'تهتم', 'تهتمون', 'تو', 'تواجهني', 'تواصل', 'تواصلت', 'تواصلكم', 'تواصلون', 'تورطت', 'توزيع', 'توزيعها', 'توصل', 'توصله', 'توضحون', 'توطن', 'توفقت', 'توقف', 'توقيع', 'توقيعي', 'توكلو', 'توني', 'تووقعي', 'تويتر', 'ثانيه', 'ثروته', 'ثلاثه', 'ثلاجات', 'ثيمات', 'جا', 'جاء', 'جائزه', 'جاتني', 'جاري', 'جالسه', 'جالي', 'جاني', 'جاه', 'جاهز', 'جاي', 'جتني', 'جد', 'جدا', 'جدد', 'جددت', 'جده', 'جدوله', 'جديد', 'جديدا', 'جديده', 'جربت', 'جربتها', 'جربهمخصوصا', 'جربي', 'جزء', 'جسر', 'جمال', 'جمع', 'جمعيه', 'جميعا', 'جميعات', 'جميل', 'جميله', 'جنات', 'جنتوني', 'جهاز', 'جهه', 'جوائز', 'جوالك', 'جيبي', 'جيت', 'جيتها', 'جيد', 'جيده', 'حاجه', 'حاسبت', 'حاط', 'حاطه', 'حاطين', 'حال', 'حالت', 'حالك', 'حاليا', 'حاول', 'حاولت', 'حبكم', 'حترجع', 'حجزه', 'حجم', 'حد', 'حدث', 'حدثت', 'حذر', 'حذوا', 'حراام', 'حرام', 'حركات', 'حركه', 'حرمتن', 'حرمني', 'حس', 'حساب', 'حساباتي', 'حسابك', 'حسابه', 'حسابها', 'حسابي', 'حسبنا', 'حسبي', 'حسبيالله', 'حسن', 'حصلت', 'حصلوا', 'حصه', 'حضر', 'حظر', 'حفرالباطن', 'حفظ', 'حق', 'حقت', 'حقتي', 'حقق', 'حقك', 'حقكم', 'حقه', 'حقهم', 'حقوقك', 'حقوقنا', 'حقون', 'حقي', 'حقيقه', 'حكوميه', 'حل', 'حلال', 'حلصنا', 'حلمي', 'حلها', 'حلو', 'حلول', 'حلوه', 'حلويات', 'حمل', 'حمله', 'حمود', 'حنا', 'حني', 'حواله', 'حول', 'حولت', 'حولي', 'حي', 'حياتكم', 'حياه', 'خارج', 'خاص', 'خاصص', 'خاطري', 'خالد', 'خانه', 'خايف', 'خبر', 'خدم', 'خدمات', 'خدماتكم', 'خدماته', 'خدماتهم', 'خدماتي', 'خدمتكم', 'خدمه', 'خذ', 'خذولكم', 'خربتو', 'خساره', 'خسرانه', 'خصم', 'خصمها', 'خصوصيه', 'خطا', 'خطاء', 'خطاب', 'خطابي', 'خطوات', 'خفي', 'خلاص', 'خلال', 'خلال24', 'خلالها', 'خلص', 'خلصو', 'خلق', 'خلك', 'خلل', 'خلوني', 'خمسه', 'خوك', 'خيار', 'خير', 'خيرا', 'خيره', 'خيرها', 'خيرهم', 'دائما', 'داخل', 'داعس', 'دايركت', 'دايم', 'دايما', 'دبل', 'دبلين', 'دبي', 'دخل', 'دخولك', 'دراهمنا', 'درايه', 'دعايه', 'دعوه', 'دفع', 'دفعات', 'دفعاته', 'دفعاتهم', 'دفعت', 'دفعه', 'دقيت', 'دكتور', 'دلاله', 'دماار', 'دمجه', 'ده', 'دور', 'دورات', 'دولي', 'دوليه', 'دينا', 'ديني', 'ديون', 'ذاتي', 'ذاتيه', 'ذايما', 'ذراعا', 'ذكرني', 'ذكيه', 'ذمتكم', 'ذهين', 'رائعه', 'رابط', 'راتب', 'راتبك', 'راتبه', 'راتبها', 'راتبي', 'راجحي', 'راجع', 'راجعت', 'راحت', 'راس', 'راسلني', 'راسي', 'راضي', 'راضيه', 'راضيين', 'رافض', 'رافع', 'راقي', 'راقيه', 'راي', 'رايات', 'رايتكم', 'رايحه', 'رايكم', 'رايي', 'ربا', 'ربح', 'ربحانين', 'ربي', 'رجعت', 'رجعلي', 'رح', 'رحت', 'رحم', 'رد', 'ردبعدل', 'ردهم', 'ردو', 'ردوا', 'رديتم', 'رديتوا', 'رزقي', 'رسائل', 'رسالتكم', 'رساله', 'رسايل', 'رسايلك', 'رسوم', 'رصيد', 'رصيدي', 'رضي', 'رضيت', 'رغم', 'رفض', 'رفع', 'رفعت', 'رقم', 'رقمي', 'رقميه', 'ركائز', 'رمز', 'رهن', 'رهيب', 'رهيبه', 'رهيبين', 'روحو', 'روعه', 'روقاني', 'رووعه', 'ريال', 'رين', 'زائفه', 'زبااله', 'زبطت', 'زحمتهم', 'زر', 'زرت', 'زعلانه', 'زعلتي', 'زفت', 'زلنا', 'زمان', 'زملائي', 'زوجتي', 'زي', 'زياده', 'زياره', 'زين', 'زيي', 'سؤال', 'سئيه', 'سائرين', 'ساب', 'سابقا', 'سابقه', 'سابك', 'ساعات', 'ساعه', 'سالب', 'سالت', 'سالفه', 'سالمين', 'ساما', 'سامبا', 'ساهموا', 'سبب', 'سبق', 'سبقا', 'سبوعين', 'ستكون', 'سته', 'ستور', 'سجلت', 'سحب', 'سحبت', 'سحبها', 'سداد', 'سددت', 'سرعه', 'سعودي', 'سعيد', 'سفر', 'سلام', 'سلامتك', 'سلس', 'سلع', 'سلمان', 'سليمان', 'سماسكو', 'سمح', 'سمحتوا', 'سمعنا', 'سمه', 'سنتاكد', 'سنتفاجا', 'سنتين', 'سنتينسريعه', 'سنرفع', 'سنعزز', 'سنه', 'سنوات', 'سنوي', 'سنويه', 'سهل', 'سهلتو', 'سهم', 'سهوله', 'سوا', 'سواء', 'سواءا', 'سوبر', 'سوق', 'سوقك', 'سوي', 'سويت', 'سويتو', 'سي', 'سيء', 'سيئه', 'سيارات', 'سياره', 'سيتم', 'سيجنتشر', 'سيكون', 'شاء', 'شاءالله', 'شابه', 'شارع', 'شاكر', 'شامل', 'شاهدين', 'شبعت', 'شبكه', 'شخص', 'شخصي', 'شخصيه', 'شراء', 'شرط', 'شركات', 'شركه', 'شرمر', 'شريت', 'شريحه', 'شريكا', 'شعاركم', 'شغال', 'شغالين', 'شغل', 'شغلهم', 'شفت', 'شفنا', 'شفوله', 'شقيقهم', 'شكاوي', 'شكر', 'شكرا', 'شكري', 'شكل', 'شكله', 'شكلي', 'شكوه', 'شكوي', 'شنو', 'شهادتي', 'شهاده', 'شهدنا', 'شهر', 'شهريا', 'شهرين', 'شهور', 'شوارع', 'شوط', 'شوف', 'شوفو', 'شوفي', 'شوي', 'شي', 'شيء', 'شيئ', 'شيبان', 'صاحب', 'صادره', 'صارت', 'صارلي', 'صالخنا', 'صاير', 'صح', 'صحيح', 'صحيحه', 'صدقتكم', 'صدقه', 'صراحه', 'صراف', 'صرافات', 'صرافه', 'صرت', 'صرتي', 'صرف', 'صرفتها', 'صرنا', 'صعب', 'صعدتها', 'صعوبات', 'صعود', 'صفر', 'صلخ', 'صندوق', 'صنعتم', 'صوره', 'ضاع', 'ضده', 'ضرايب', 'ضماني', 'ضمن', 'طابعه', 'طاعه', 'طاف', 'طالب', 'طالعين', 'طاير', 'طبعاء', 'طبعوها', 'طبق', 'طرف', 'طريق', 'طريقع', 'طريقه', 'طل', 'طلب', 'طلبات', 'طلبت', 'طلبتهم', 'طلبك', 'طلبوني', 'طلع', 'طلعت', 'طلعتها', 'طلعوا', 'طلعي', 'طموحنا', 'طول', 'طوني', 'طويل', 'طيب', 'طيبه', 'ظروفهم', 'عاجبيني', 'عادي', 'عالاكيد', 'عالحسب', 'عالفاضي', 'عالم', 'عالمي', 'عالناس', 'عالي', 'عاليه', 'عام', 'عباءه', 'عبدالله', 'عثي', 'عدم', 'عده', 'عذااب', 'عذرا', 'عرض', 'عرفت', 'عرفنالكم', 'عروض', 'عروضكم', 'عريق', 'عز', 'عزيز', 'عسكري', 'عشان', 'عشرات', 'عشره', 'عطاء', 'عطل', 'عطلان', 'عطلانه', 'عطنا', 'عطو', 'عظيم', 'عقاري', 'عقد', 'عكس', 'عكسيه', 'علاقه', 'علشان', 'علطول', 'علما', 'علمه', 'علمونا', 'علو', 'علي', 'عليا', 'عليكم', 'علينا', 'عليه', 'عليها', 'عليهم', 'عمر', 'عمرها', 'عمري', 'عمل', 'عملاء', 'عملاءه', 'عملائكم', 'عملات', 'عملاق', 'عمليات', 'عمليه', 'عموله', 'عميل', 'عن', 'عنا', 'عناء', 'عنان', 'عندك', 'عندكم', 'عندما', 'عنده', 'عندها', 'عندهم', 'عندي', 'عنه', 'عنها', 'عنهم', 'عهدنا', 'عيني', 'عيوا', 'غالي', 'غايه', 'غريب', 'غريبه', 'غسيل', 'غش', 'غضون', 'غفر', 'غلط', 'غلطان', 'غير', 'غيركم', 'غيرهم', 'غيرهما', 'فائده', 'فاتوره', 'فارع', 'فاشل', 'فاشله', 'فاضي', 'فاقد', 'فاكيد', 'فالاسابيع', 'فالشرق', 'فالوقت', 'فاما', 'فايده', 'فتح', 'فتحت', 'فتحو', 'فتره', 'فجاه', 'فخم', 'فرحتي', 'فرصه', 'فرع', 'فرعهم', 'فروع', 'فروعها', 'فساد', 'فشلتونا', 'فشلني', 'فعل', 'فعلا', 'فعليا', 'فقد', 'فقط', 'فقعه', 'فك', 'فكره', 'فكينا', 'فلتعلم', 'فلوس', 'فلوسك', 'فلوسنا', 'فلوسه', 'فلوسي', 'فن', 'فنيه', 'فهل', 'فهمت', 'فوائدكم', 'فوري', 'فيزا', 'فيزه', 'فيصل', 'فيكم', 'فيني', 'فيه', 'فيهم', 'فيهما', 'قاضي', 'قال', 'قالت', 'قالو', 'قالوا', 'قايلو', 'قبلكم', 'قبلهم', 'قبول', 'قدر', 'قدرت', 'قدرنا', 'قدمت', 'قدمنا', 'قدموا', 'قدومها', 'قديم', 'قديمه', 'قذر', 'قرابه', 'قرب', 'قرر', 'قرض', 'قريب', 'قريبه', 'قسم', 'قصروا', 'قضيت', 'قضيتي', 'قضيه', 'قطار', 'قعدت', 'قفزه', 'قفل', 'قلبيه', 'قلت', 'قلتها', 'قلتو', 'قلعه', 'قلنا', 'قليل', 'قليلا', 'قليله', 'قمت', 'قمتو', 'قمم', 'قمه', 'قهر', 'قول', 'قوه', 'قوي', 'قويه', 'قياسي', 'قيد', 'قيمه', 'قيوم', 'كا', 'كاس', 'كاش', 'كاشير', 'كافي', 'كالاتي', 'كالعاده', 'كالمعتاد', 'كامله', 'كانكم', 'كانه', 'كبف', 'كبنك', 'كبير', 'كبيره', 'كبيير', 'كثر', 'كثره', 'كثير', 'كثيره', 'كده', 'كذا', 'كذابين', 'كذالك', 'كرهته', 'كريم', 'كرييم', 'كشخه', 'كفاهم', 'كفتهم', 'كفو', 'كفوو', 'كفي', 'كفيل', 'كقراءه', 'كلام', 'كلامكم', 'كلب', 'كلمت', 'كلمه', 'كله', 'كلها', 'كلهم', 'كلي', 'كمان', 'كمستفيد', 'كملت', 'كملوها', 'كميه', 'كنت', 'كنتاكي', 'كنسل', 'كورس', 'كورونا', 'كون', 'كونه', 'كويس', 'لا', 'لائحه', 'لااؤمن', 'لااعلم', 'لااملك', 'لااهلها', 'لابد', 'لابني', 'لاتاخذون', 'لاتحصي', 'لاتخلوني', 'لاتذكرني', 'لاتزال', 'لاتستطيع', 'لاتفرح', 'لاتنسي', 'لاتوجد', 'لاجل', 'لاحتيال', 'لاحق', 'لاحول', 'لاحياه', 'لاختراق', 'لادارته', 'لارباح', 'لازلنا', 'لازم', 'لافضل', 'لاقادرين', 'لاكثر', 'لاكني', 'لاكون', 'لامبالاه', 'لامر', 'لامقارنه', 'لان', 'لانحاسب', 'لانحول', 'لانفسكم', 'لانكم', 'لانه', 'لاني', 'لاول', 'لاي', 'لايتجاوز', 'لايخدم', 'لايدمر', 'لايرسل', 'لايزال', 'لايشكر', 'لايصير', 'لايعرفون', 'لايملك', 'لاين', 'لبنك', 'لبنوك', 'لبنيتي', 'لتاريخ', 'لتاسيس', 'لتجاوبكم', 'لتجميدهم', 'لتحديث', 'لتحويل', 'لتطبيقات', 'لتعاونك', 'لتغيير', 'لتفاعلكم', 'لتوصيل', 'لجلب', 'لحالها', 'لحد', 'لحسابي', 'لحين', 'لخدمه', 'لدفع', 'لدي', 'لديكم', 'لديه', 'لديها', 'لديهم', 'لذا', 'لذلك', 'لذوق', 'لراجحي', 'لربي', 'لردكم', 'لسداد', 'لسرعه', 'لسنوات', 'لسه', 'لشراء', 'لشركه', 'لصاحب', 'لطلب', 'لعامله', 'لعبه', 'لعدد', 'لعدم', 'لعرض', 'لعملائكم', 'لعملائه', 'لعملائها', 'لعملاائه', 'لفتح', 'لفرع', 'لفه', 'لقد', 'لقرض', 'لقيت', 'لقينه', 'لكان', 'لكفاءه', 'لكل', 'لكل5', 'للاستثمار', 'للاسعار', 'للاسف', 'للان', 'للانماء', 'للاهلي', 'للبزنس', 'للبطاقه', 'للبناء', 'للبنك', 'للتحديث', 'للتحول', 'للتطبيق', 'للتغيير', 'للجامعه', 'للحساب', 'للحصول', 'للحين', 'للخدمه', 'للراجحي', 'للرياض', 'للسرقه', 'للسقوط', 'للشركات', 'للضرورهوغالبا', 'للعام', 'للعلم', 'للعملات', 'للعمليات', 'للعميل', 'للفرع', 'للقروض', 'للكل', 'للمؤشر', 'للمالك', 'للمره', 'للمشاكل', 'للمشكله', 'للمصرف', 'للمصرفيه', 'للمعلوميه', 'للمنافسين', 'للمنتجات', 'للموظف', 'للنادي', 'للناس', 'للنجاح', 'للنقل', 'للي', 'لليوم', 'لم', 'لماذا', 'لمستفيدي', 'لمستواهم', 'لمصرف', 'لمن', 'لمنزل', 'لموظفين', 'لن', 'لنفس', 'لنفسه', 'له', 'لوجه', 'لوسمحت', 'لوكاته', 'لي', 'ليتم', 'ليش', 'ليقول', 'ليكون', 'لين', 'ليناسف', 'ليه', 'ليوم', 'لييشش', 'لييششيش', 'مؤبهمه', 'مؤخر', 'مؤسسه', 'مؤسسيه', 'ما', 'مااستغني', 'مااسوي', 'مااعرف', 'مااعلم', 'ماالومك', 'مااودعت', 'مات', 'ماتبغي', 'ماتتصل', 'ماتجرب', 'ماترددون', 'ماتركت', 'ماتشملنا', 'ماتصل', 'ماتصير', 'ماتضحكو', 'ماتغير', 'ماتقول', 'ماتقولون', 'ماتوصل', 'ماتوظفت', 'ماتوقفت', 'ماجاني', 'ماحد', 'ماخذ', 'ماخذه', 'ماخلانا', 'ماخليت', 'مادخل', 'مادري', 'ماده46', 'ماذكرتوها', 'ماراح', 'مارجع', 'ماركيت', 'مازلتم', 'ماستفدنا', 'ماسك', 'ماسويتو', 'ماشاء', 'ماشاءالله', 'ماشفته', 'ماصارت', 'ماطلعت', 'ماعجبني', 'ماعرف', 'ماعرفت', 'ماعليا', 'ماعليه', 'ماعندنا', 'ماعنده', 'ماعندي', 'ماغير', 'مافي', 'مافيه', 'مافيها', 'ماقد', 'ماقدر', 'ماقدرت', 'ماقدرو', 'ماقصرتو', 'ماقول', 'ماقيمته', 'ماكان', 'ماكلم', 'ماكلين', 'مال', 'مالائمه', 'مالنا', 'ماله', 'مالها', 'مالي', 'ماليه', 'مامرت', 'ماميزه', 'مانبغا', 'ماندري', 'ماندمت', 'مانزل', 'مانفعت', 'ماهذا', 'ماهمكم', 'ماهو', 'ماوصلت', 'ماوصلتني', 'ماوصلنا', 'مايبيعونه', 'مايتواصلون', 'مايجد', 'مايجي', 'مايدرون', 'مايدفع', 'مايرد', 'مايشفع', 'مايصلني', 'مايصير', 'مايضبط', 'مايضيع', 'مايعجبني', 'مايعطونك', 'مايعطيك', 'مايقفلو', 'ماينزلها', 'ماينزلونها', 'مب', 'مبارز', 'مبارك', 'مباشر', 'مباشره', 'مبالغ', 'مبثبتين', 'مبرر', 'مبروك', 'مبروكه', 'مبكر', 'مبلع', 'مبلغ', 'مبهمين', 'مبين', 'متابعينك', 'متاح', 'متاخر', 'متاكده', 'متبقي', 'متجاوز', 'متخيله', 'متسوون', 'متضرري', 'متطوره', 'متعطل', 'متفهمين', 'متقاعد', 'متلفت', 'متميزين', 'متوازنه', 'متواصله', 'متواليه', 'متوفر', 'متوقف', 'مثال', 'مثلا', 'مثلك', 'مثلهم', 'مثيل', 'مجامله', 'مجانا', 'مجاني', 'مجانيه', 'مجرب', 'مجرد', 'مجروحه', 'مجزيه', 'مجلس', 'مجمد', 'محامي', 'محتاج', 'محترم', 'محجوز', 'محجوزه', 'محد', 'محدود', 'محرج', 'محرم', 'محفظتين', 'محل', 'محلي', 'محلين', 'محليه', 'محمد', 'محول', 'محيسن', 'مخاطبته', 'مخاطره', 'مخالصه', 'مختلط', 'مختلفتين', 'مختلفه', 'مخلص', 'مخليهم', 'مخيس', 'مدته', 'مدري', 'مدعوم', 'مدي', 'مدير', 'مديونيات', 'مديونيتي', 'مديونيه', 'مذكور', 'مرابحه', 'مرات', 'مراجعته', 'مراجعه', 'مراره', 'مراهقه', 'مرت', 'مرتاحه', 'مرتبطه', 'مرتين', 'مرحبا', 'مرسل', 'مرفق', 'مرفوضه', 'مرمطه', 'مره', 'مرونه', 'مريحي', 'مزايا', 'مساعدتكم', 'مساعدتهم', 'مساعدتي', 'مساك', 'مساله', 'مسبقه', 'مسبوق', 'مستاءه', 'مستثمرين', 'مستحقات', 'مستحقاتي', 'مستحيله', 'مستخدم', 'مستفيد', 'مستلم', 'مستوي', 'مسج', 'مسجل', 'مسجله', 'مسحوبه', 'مسدد', 'مسلسل', 'مسلمين', 'مسوي', 'مسوين', 'مسيطره', 'مش', 'مشاريع', 'مشاكل', 'مشاكلنا', 'مشرفه', 'مشكلتي', 'مشكله', 'مشكورين', 'مشي', 'مصاب', 'مصالحنا', 'مصخرني', 'مصرف', 'مصرفنا', 'مصرفي', 'مضيع', 'مطالبات', 'مطالبه', 'مطعم', 'مطفره', 'مطلع', 'معاد', 'معاك', 'معاكم', 'معاليكم', 'معاملتهم', 'معامله', 'معانات', 'معاناتي', 'معاناه', 'معاه', 'معاهم', 'معاي', 'معاير', 'معايه', 'معرضه', 'معرفه', 'معروف', 'معطل', 'معطليني', 'معفن', 'معقد', 'معقول', 'معقوله', 'معك', 'معكم', 'معلق', 'معلقه', 'معلوماتي', 'معه', 'معهم', 'معوقين', 'معي', 'مفاجاتكم', 'مفاجاه', 'مفتوح', 'مفرح', 'مفهومه', 'مفوتر', 'مقارنه', 'مقدم', 'مقعد', 'مقفل', 'مكافاتي', 'مكان', 'مكانك', 'مكتب', 'مكتسحه', 'مكتمله', 'مكتوب', 'مكروف', 'مكسب', 'مكلوف', 'مكيفات', 'مل', 'ملايين', 'ملخبط', 'ملل', 'مليار', 'مليونيره', 'مماثل', 'مماطله', 'ممانعه', 'ممتاز', 'ممتازه', 'ممتازين', 'ممتنه', 'ممكن', 'مميز', 'مميزه', 'من', 'منا', 'منافس', 'منتج', 'منتهي', 'منتهيه', 'منحه', 'منحه3', 'منحوه', 'منزليه', 'منسوبي', 'منصه', 'منطق', 'منفصل', 'منك', 'منكم', 'منه', 'منهم', 'منو', 'مني', 'مها', 'مهب', 'مهبول', 'مهلهله', 'مهمش', 'مهمله', 'مهمه', 'مهي', 'مو', 'موافقه', 'موجوده', 'موسسه', 'موضح', 'موضفين', 'موضوع', 'موضوعي', 'موظف', 'موظفات', 'موظفين', 'موقف', 'موقوفه', 'مول', 'موهقنا', 'موهل', 'ميزانيته', 'ميزه', 'ميلغ', 'ناس', 'نامل', 'نبغا', 'نبي', 'نتامل', 'نترقب', 'نتعامل', 'نتمني', 'نتيجه', 'نجد', 'نجوم', 'نحاسب', 'نحب', 'نحول', 'ندمت', 'نذكركم', 'نرفع', 'نزاهه', 'نزل', 'نزللي', 'نزول', 'نسبته', 'نسبتهم', 'نسبه', 'نسعد', 'نسمع', 'نسوي', 'نشطوا', 'نشهد', 'نص', 'نصابين', 'نصب', 'نصبا', 'نصحتكم', 'نصيحه', 'نظام', 'نظر', 'نعاني', 'نعمه', 'نغطي', 'نفتح', 'نفذت', 'نفسك', 'نفسهم', 'نفسي', 'نفع', 'نقدر', 'نقدي', 'نقل', 'نقلت', 'نقودا', 'نقي', 'نكلم', 'نموذج', 'ننام', 'ننتظر', 'نهائيا', 'نهج', 'نوعيه', 'نوفيهم', 'نيه', 'هاذا', 'هاذاامر', 'هاذي', 'هالانسان', 'هالشروط', 'هالعذر', 'هالعقوبه', 'هالقروض', 'هالقيد', 'هالكلام', 'هالمصخره', 'هاله', 'هامش', 'هبوط', 'هجره', 'هديه', 'هذا', 'هندسي', 'هه', 'هواتف', 'هولاء', 'هويتي', 'هويه', 'وااو', 'وابدا', 'وابداع', 'وابغي', 'وابل', 'وابن', 'وابي', 'واتساب', 'واتقن', 'واتمتع', 'واتمني', 'واتورط', 'واثق', 'واجد', 'واجزهم', 'واجعل', 'واجعلهم', 'واجمل', 'واجهتني', 'واجهه', 'واحبكم', 'واحتيالا', 'واحدث', 'واحده', 'واحط', 'واحفظ', 'واحلي', 'واحنا', 'واحيانا', 'واخذ', 'واخذو', 'واخليهم', 'واداره', 'واذا', 'وارجع', 'وارده', 'وارسال', 'وارسلتوا', 'وارفع', 'وازفت', 'واسابيع', 'واستخدام', 'واستخدامه', 'واستغلال', 'واستمروا', 'واسرع', 'واسكنهم', 'واسلوب', 'واسواء', 'واسويه', 'واش', 'واشتري', 'واشكر', 'واشهر', 'واصلا', 'واصلح', 'واضافه', 'واضح', 'واضحه', 'واطلب', 'واطلع', 'واعرق', 'واعشقك', 'واعلا', 'واعلم', 'واغفر', 'وافادتي', 'وافتكيت', 'وافضل', 'واقسم', 'واقصد', 'واقولها', 'واكبر', 'واكبو', 'واكثر', 'واكيد', 'والا', 'والاثباتات', 'والاحكام', 'والاخر', 'والارض', 'والاستحقاق', 'والاسلامي', 'والاعتماديه', 'والاعلان', 'والاقتصادي', 'والان', 'والاهلي', 'والباقي', 'والبرامج', 'والبطاقه', 'والبنك', 'والبنوك', 'والتجاوب', 'والتجربه', 'والتحويل', 'والتطبيق', 'والتعامل', 'والتعجيز', 'والجزيره', 'والجود', 'والحساب', 'والحق', 'والحمدالله', 'والحمدلله', 'والخ', 'والخزاين', 'والخير', 'والدقه', 'والراجحي', 'والربح', 'والرد', 'والسبب', 'والسستم', 'والسعي', 'والشريحه', 'والشهر', 'والصاحيه', 'والظلم', 'والعالم', 'والعاملين', 'والعربي', 'والعرض', 'والعطلات', 'والعميل', 'والف', 'والفرع', 'والفضل', 'والفلوس', 'والفوضي', 'والقرض', 'والله', 'واللي', 'والمبلغ', 'والمتابعه', 'والمحفظه', 'والمستمر', 'والمشكله', 'والمصداقيه', 'والمقاهي', 'والمواقعالخ', 'والنصب', 'والنيابه', 'والهاتف', 'والهطل', 'والواجهات', 'والي', 'واليوم', 'وامد', 'وامكان', 'واميز', 'وان', 'وانا', 'وانت', 'وانتم', 'وانته', 'وانجاز', 'وانجس', 'واندمج', 'وانسدت', 'وانسيابيه', 'واهتمامك', 'واهل', 'واولهم', 'واياهم', 'وايجابي', 'وايدهم', 'وباذن', 'وباقي', 'وبالاخير', 'وبالتالي', 'وبانتظار', 'وببلاش', 'وبتساعدوهم', 'وبتوصل', 'وبحولها', 'وبخدمات', 'وبدون', 'وبرعايه', 'وبركاته', 'وبركه', 'وبس', 'وبسبب', 'وبشكل', 'وبطاقات', 'وبعد', 'وبعدها', 'وبعضهم', 'وبفوائد', 'وبقرار', 'وبمجرد', 'وبمزاجي', 'وبنك', 'وبهذا', 'وبين', 'وبينكم', 'وتتم', 'وتتواصل', 'وتثبيت', 'وتجارب', 'وتحسفت', 'وتحطون', 'وتدليس', 'وترجع', 'وترجعون', 'وتسون', 'وتشتكي', 'وتصدر', 'وتصميم', 'وتطبيق', 'وتطلع', 'وتعامل', 'وتعاملاته', 'وتعتبر', 'وتعطونا', 'وتعظل', 'وتعقيد', 'وتعلق', 'وتعلم', 'وتفكيرها', 'وتفوق', 'وتقدر', 'وتقديره', 'وتقول', 'وتم', 'وتنحل', 'وتورطوهن', 'وثابتين', 'وثبت', 'وجاري', 'وجاني', 'وجب', 'وجلست', 'وجه', 'وجهك', 'وجهنا', 'وجهه', 'وجود', 'وحتي', 'وحده', 'وحساباتهم', 'وحسابي', 'وحسب', 'وحسبنا', 'وحسن', 'وحسنين', 'وحصلت', 'وحطيت', 'وحققت', 'وحل', 'وحولت', 'وخدعه', 'وخدمات', 'وخدماتي', 'وخدمتهم', 'وخدمتي', 'وخدمه', 'وخصم', 'وخصوصا', 'وخطاب', 'وخلال', 'وخلو', 'ودافع', 'ودايم', 'ودخلنا', 'ودعوه', 'ودفعت', 'ودك', 'ودنا', 'ورائع', 'ورائعه', 'وراتبي', 'وراح', 'ورافض', 'ورافضين', 'وراكم', 'وربي', 'ورثه', 'ورجع', 'ورجعت', 'ورجعه', 'ورحت', 'ورحمه', 'وردتني', 'ورديتو', 'ورضاء', 'ورفض', 'ورفضت', 'ورفضها', 'ورفضوا', 'ورفع', 'ورقم', 'ورقه', 'ورقي', 'وركيزه', 'وروح', 'وروعه', 'وزاره', 'وزباده', 'وزعوا', 'وسحب', 'وسحبت', 'وسحبتم', 'وسرعه', 'وسكنته', 'وسلامتكم', 'وسلس', 'وسلسهنادر', 'وسهل', 'وسهله', 'وسهوله', 'وسياره', 'وسيله', 'وش', 'وشاكر', 'وشخصي', 'وشرايكم', 'وشركه', 'وشعبها', 'وشفافيتكم', 'وشك', 'وشكرا', 'وشلون', 'وشوف', 'وشي', 'وصاحب', 'وصارو', 'وصرف', 'وصعدت', 'وصل', 'وصلابه', 'وصلت', 'وصلتني', 'وصلني', 'وصول', 'وضايعه', 'وضعكم', 'وطارت', 'وطبقها', 'وطقتها', 'وطلب', 'وطلبت', 'وطلع', 'وطلعت', 'وطلعه', 'وطن', 'وظفوا', 'وعائله', 'وعاف', 'وعافيه', 'وعبيت', 'وعروض', 'وعشان', 'وعطل', 'وعلي', 'وعليكم', 'وعليها', 'وعميل', 'وعند', 'وعندما', 'وعندي', 'وعييت', 'وغثاهم', 'وغير', 'وفتح', 'وفتحت', 'وفرتوا', 'وفضل', 'وفكرته', 'وفلوسه', 'وفوقها', 'وفوقيه', 'وفي', 'وفيه', 'وفيها', 'وقالو', 'وقالوا', 'وقبل', 'وقت', 'وقتها', 'وقتي', 'وقد', 'وقدره', 'وقدم', 'وقدمت', 'وقرض', 'وقرف', 'وقسم', 'وقعنا', 'وقفلوا', 'وقلت', 'وقوته', 'وقيادتها', 'وكان', 'وكاني', 'وكذالك', 'وكل', 'وكلامه', 'وكلمه', 'وكلها', 'وكلهن', 'وكيف', 'ولا001', 'ولااقدر', 'ولاتدخل', 'ولاتواكب', 'ولاحضت', 'ولاحظت', 'ولاحملت', 'ولاحول', 'ولافهمت', 'ولاقوه', 'ولاكفن', 'ولان', 'ولاهو', 'ولايزال', 'ولايفي', 'ولحد', 'ولدي', 'ولديهم', 'ولقينا', 'ولك', 'وللاسف', 'وللامانه', 'وللان', 'وللحين', 'ولم', 'ولن', 'ولهذا', 'ولهم', 'ولي', 'وليتني', 'وليس', 'ومارجع', 'ومارحع', 'ومازال', 'ومازلت', 'وماطلعت', 'وماعجبني', 'وماعندي', 'وماوصل', 'وماوصلت', 'وماوين', 'ومايلعب', 'ومتمزين', 'ومتوفر', 'ومتي', 'ومجدد', 'ومجلس', 'ومجمد', 'ومجمعتهن', 'ومستفيد', 'ومسجل', 'ومصرف', 'ومصلحته', 'ومصورته', 'ومع', 'ومقدر', 'وملايين', 'وملهمنا', 'ومليكي', 'وممتعه', 'ومميزات', 'ومنها', 'وموظفينه', 'وموقع', 'ومولوا', 'ونا', 'ونامل', 'ونتضر', 'ونتمنئ', 'ونتمني', 'ونجاحات', 'ونخصم', 'ونروح', 'ونزل', 'ونسبه', 'ونسوي', 'ونص', 'ونصرهم', 'ونصف', 'ونصيحه', 'ونعم', 'ونفخر', 'وهاذا', 'وهالحين', 'وهامش', 'وهديه', 'وهذا', 'وهذه', 'وهل', 'وهم', 'وهمي', 'وهميه', 'وو', 'وواجه', 'ووزاره', 'ووطني', 'ووعود', 'ووفق', 'ويا', 'وياليت', 'ويبون', 'ويتحركون', 'ويتراسل', 'ويتعب', 'ويتكلم', 'ويتم', 'ويجيني', 'ويحاولون', 'ويخذ', 'ويرفض', 'ويريدون', 'ويزيدهم', 'ويسار', 'ويسولف', 'ويطالب', 'ويطلع', 'ويغنينا', 'ويقدر', 'ويقول', 'ويقولون', 'ويكذبون', 'ويكند', 'ويمكن', 'وين', 'ويواكب', 'ويوفق', 'ويوم', 'ويومك', 'ويوهقنا', 'و٤شهور', 'يؤثر', 'يااجمل', 'يااحلي', 'يااليتني', 'يااهل', 'يابنك', 'يابنكي', 'ياحلو', 'ياخذ', 'ياخذك', 'ياخذون', 'ياخي', 'ياراجحي', 'يارب', 'يارجال', 'ياريت', 'يازين', 'يازينكم', 'ياسلام', 'ياعطلانه', 'يافشله', 'ياكثرر', 'يالاهلي', 'يالراجحي', 'يالله', 'ياليت', 'يامصرف', 'يبارك', 'يبدو', 'يبرد', 'يبقي', 'يبون', 'يبي', 'يتاخر', 'يتحكم', 'يتدرب', 'يتسني', 'يتعبوني', 'يتعلمون', 'يتفاعل', 'يتفووت', 'يتكرر', 'يتكلم', 'يتم', 'يتميز', 'يتواصلون', 'يتوافق', 'يجب', 'يجرون', 'يجعل', 'يجمدوا', 'يجنن', 'يجننونك', 'يجي', 'يجيبه', 'يجيك', 'يجيني', 'يجيه', 'يحاول', 'يحتاج', 'يحتفظون', 'يحدونك', 'يحسسونك', 'يحسون', 'يحق', 'يحقق', 'يحلونها', 'يحلوها', 'يحول', 'يحولون', 'يحولونه', 'يخارجنا', 'يختار', 'يخدم', 'يخرب', 'يخرج', 'يخسف', 'يخص', 'يخلصون', 'يخلونه', 'يخلي', 'يخليها', 'يخوف', 'يدعمونك', 'يدفع', 'يدفعون', 'يدل', 'يديمها', 'يرجال', 'يرجع', 'يرد', 'يردون', 'يرزقك', 'يرسل', 'يرسلون', 'يرفض', 'يرفضوني', 'يرفع', 'يرفعه', 'يرفعوا', 'يرقي', 'يرمونك', 'يرمينا', 'يريد', 'يزيد', 'يزينه', 'يساتر', 'يساعدني', 'يستاهل', 'يستحقونه', 'يستخف', 'يستسلم', 'يستغل', 'يستفيد', 'يسحب', 'يسحبون', 'يسدد', 'يسعد', 'يسعدكم', 'يسعدلي', 'يسكره', 'يسوي', 'يشتري', 'يشتريه', 'يشتغل', 'يشوف', 'يصاحبه', 'يصبح', 'يصدقونهم', 'يصرفني', 'يصغرون', 'يصل', 'يصيح', 'يصير', 'يضل', 'يطاردون', 'يطبقه', 'يطبقونه', 'يطبلون', 'يطلب', 'يطلع', 'يطلعلي', 'يطلعوا', 'يطلعون', 'يظل', 'يظهر', 'يعافيك', 'يعتبر', 'يعتقدون', 'يعزهم', 'يعطني', 'يعطونك', 'يعطونه', 'يعطيك', 'يعطيكم', 'يعطيني', 'يعمل', 'يعني', 'يعود', 'يعوضه', 'يعين', 'يفتح', 'يفتحو', 'يفتحون', 'يفعل', 'يفهمك', 'يفيدكم', 'يفيدنا', 'يفيدني', 'يقبله', 'يقتنص', 'يقدر', 'يقردني', 'يقفلون', 'يقلع', 'يقلعه', 'يقول', 'يقولوا', 'يقولون', 'يقولي', 'يقوم', 'يقيم', 'يكثر', 'يكرر', 'يكون', 'يكونو', 'يلعن', 'يلف', 'يلقي', 'يلوموني', 'يماطل', 'يمتلك', 'يمرمطهم', 'يمكن', 'يمكنك', 'يميز', 'يناقشني', 'ينتهي', 'ينجبر', 'ينجحو', 'ينزل', 'ينزلك', 'ينفعوا', 'ينقص', 'ينقصها', 'ينقطع', 'ينهب', 'يهتم', 'يهديك', 'يوجد', 'يوجهني', 'يوحي', 'يودعها', 'يورطني', 'يوصل', 'يوصلني', 'يوصلون', 'يوفقك', 'يوم', 'يومك', 'يومي', 'يوميا', 'يومين', 'ييسر', '٠٢٢', '١٠', '١٠دقايق', '١٠مرات', '١٠٠', '١١', '١٢', '١٢٠٠', '١٥', '١٦', '١٨سنه', '٢في', '٢٠يوما', '٢٠٠', '٢٠٢١', '٢٠٢١١٥', '٢٢', '٢٢١٧٣٧٠٥', '٢٤', '٢٥٠٥٢٢٧٠', '٢٩٠٠', '٣ايام', '٤ايام', '٤سنوات', '٤٥', '٤٨', '٥فجرا', '٥٠٠', '٥٢٣٤ريال', '٦٠', '٦٢٢٠٢٢', '٧٠٠', '٨سنين', '٨٠٠', '٩١', '٩٩']\n",
            "[ 445 1872 2172  689 1602  455  426  122 2704 1105  452 2237 1525  434\n",
            "  111 3645 2605 1369 1903  315]\n"
          ]
        },
        {
          "output_type": "display_data",
          "data": {
            "text/plain": [
              "<Figure size 1080x360 with 1 Axes>"
            ],
            "image/png": "[encoded data removed]"
          },
          "metadata": {
            "needs_background": "light"
          }
        }
      ]
    },
    {
      "cell_type": "code",
      "source": [
        "# show the most informatics features for the svm classifier \n",
        "most_informative_feature(tf_vec,classifier_svm)"
      ],
      "metadata": {
        "id": "_IRGnoUIYYOM"
      },
      "execution_count": null,
      "outputs": []
    }
  ]
}